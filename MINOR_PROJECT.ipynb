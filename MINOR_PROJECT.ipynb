{
  "nbformat": 4,
  "nbformat_minor": 0,
  "metadata": {
    "colab": {
      "name": "MINOR PROJECT.ipynb",
      "provenance": [],
      "collapsed_sections": [],
      "mount_file_id": "11yLagBaqw6BdflbK8nnTxKDT0k4lPgGm",
      "authorship_tag": "ABX9TyP0qIhaeqKjMM3Tci4OojPp",
      "include_colab_link": true
    },
    "kernelspec": {
      "name": "python3",
      "display_name": "Python 3"
    }
  },
  "cells": [
    {
      "cell_type": "markdown",
      "metadata": {
        "id": "view-in-github",
        "colab_type": "text"
      },
      "source": [
        "<a href=\"https://colab.research.google.com/github/shauryakohli/trial/blob/main/MINOR_PROJECT.ipynb\" target=\"_parent\"><img src=\"https://colab.research.google.com/assets/colab-badge.svg\" alt=\"Open In Colab\"/></a>"
      ]
    },
    {
      "cell_type": "code",
      "metadata": {
        "id": "9vmB_bJhGR2P",
        "outputId": "b4dfeec3-60aa-4680-e0a1-f659a19504ee",
        "colab": {
          "base_uri": "https://localhost:8080/"
        }
      },
      "source": [
        "!pip install ipython-autotime\n",
        "%load_ext autotime"
      ],
      "execution_count": 2,
      "outputs": [
        {
          "output_type": "stream",
          "text": [
            "Collecting ipython-autotime\n",
            "  Downloading https://files.pythonhosted.org/packages/3f/58/a4a65efcce5c81a67b6893ade862736de355a3a718af5533d30c991831ce/ipython_autotime-0.2.0-py2.py3-none-any.whl\n",
            "Requirement already satisfied: ipython in /usr/local/lib/python3.6/dist-packages (from ipython-autotime) (5.5.0)\n",
            "Requirement already satisfied: prompt-toolkit<2.0.0,>=1.0.4 in /usr/local/lib/python3.6/dist-packages (from ipython->ipython-autotime) (1.0.18)\n",
            "Requirement already satisfied: decorator in /usr/local/lib/python3.6/dist-packages (from ipython->ipython-autotime) (4.4.2)\n",
            "Requirement already satisfied: pygments in /usr/local/lib/python3.6/dist-packages (from ipython->ipython-autotime) (2.6.1)\n",
            "Requirement already satisfied: simplegeneric>0.8 in /usr/local/lib/python3.6/dist-packages (from ipython->ipython-autotime) (0.8.1)\n",
            "Requirement already satisfied: traitlets>=4.2 in /usr/local/lib/python3.6/dist-packages (from ipython->ipython-autotime) (4.3.3)\n",
            "Requirement already satisfied: pexpect; sys_platform != \"win32\" in /usr/local/lib/python3.6/dist-packages (from ipython->ipython-autotime) (4.8.0)\n",
            "Requirement already satisfied: pickleshare in /usr/local/lib/python3.6/dist-packages (from ipython->ipython-autotime) (0.7.5)\n",
            "Requirement already satisfied: setuptools>=18.5 in /usr/local/lib/python3.6/dist-packages (from ipython->ipython-autotime) (50.3.2)\n",
            "Requirement already satisfied: wcwidth in /usr/local/lib/python3.6/dist-packages (from prompt-toolkit<2.0.0,>=1.0.4->ipython->ipython-autotime) (0.2.5)\n",
            "Requirement already satisfied: six>=1.9.0 in /usr/local/lib/python3.6/dist-packages (from prompt-toolkit<2.0.0,>=1.0.4->ipython->ipython-autotime) (1.15.0)\n",
            "Requirement already satisfied: ipython-genutils in /usr/local/lib/python3.6/dist-packages (from traitlets>=4.2->ipython->ipython-autotime) (0.2.0)\n",
            "Requirement already satisfied: ptyprocess>=0.5 in /usr/local/lib/python3.6/dist-packages (from pexpect; sys_platform != \"win32\"->ipython->ipython-autotime) (0.6.0)\n",
            "Installing collected packages: ipython-autotime\n",
            "Successfully installed ipython-autotime-0.2.0\n",
            "time: 194 µs\n"
          ],
          "name": "stdout"
        }
      ]
    },
    {
      "cell_type": "code",
      "metadata": {
        "id": "c5c86BiWwDwS",
        "outputId": "a4833e93-5050-42b3-d82f-6e5f8907428c",
        "colab": {
          "base_uri": "https://localhost:8080/"
        }
      },
      "source": [
        "!pip install bing-image-downloader"
      ],
      "execution_count": 3,
      "outputs": [
        {
          "output_type": "stream",
          "text": [
            "Collecting bing-image-downloader\n",
            "  Downloading https://files.pythonhosted.org/packages/0d/bf/537a61030b84ae4cd5022d5c7b014fd9bc3ce7c02358919153a6658a61d3/bing_image_downloader-1.0.4-py3-none-any.whl\n",
            "Installing collected packages: bing-image-downloader\n",
            "Successfully installed bing-image-downloader-1.0.4\n",
            "time: 2.74 s\n"
          ],
          "name": "stdout"
        }
      ]
    },
    {
      "cell_type": "code",
      "metadata": {
        "id": "Ny_vrREB1_KM",
        "outputId": "3926f3e4-96fb-4e44-f9c4-7327e574edff",
        "colab": {
          "base_uri": "https://localhost:8080/"
        }
      },
      "source": [
        "!mkdir images"
      ],
      "execution_count": 4,
      "outputs": [
        {
          "output_type": "stream",
          "text": [
            "time: 110 ms\n"
          ],
          "name": "stdout"
        }
      ]
    },
    {
      "cell_type": "code",
      "metadata": {
        "id": "_1hwm2Hd2Da8",
        "outputId": "5ac72390-ee0a-4a06-d9d2-6ad14d4a2cb8",
        "colab": {
          "base_uri": "https://localhost:8080/"
        }
      },
      "source": [
        "from bing_image_downloader import downloader\n",
        "downloader.download(\"dog\",limit=30,output_dir='images',adult_filter_off=True)"
      ],
      "execution_count": 125,
      "outputs": [
        {
          "output_type": "stream",
          "text": [
            "\n",
            "\n",
            "[!!]Indexing page: 1\n",
            "\n",
            "[%] Indexed 13 Images on Page 1.\n",
            "\n",
            "===============================================\n",
            "\n",
            "[%] Downloading Image #1 from http://2.bp.blogspot.com/-9QaOdl2TjiQ/ULXmDxMf6tI/AAAAAAAAEAU/PlPzEYknG4M/s1600/white_dog_blue_eyes.jpg\n",
            "[%] File Downloaded !\n",
            "\n",
            "[%] Downloading Image #2 from https://www.top13.net/wp-content/uploads/2015/11/perfectly-timed-dog-pictures-5.jpg\n",
            "[%] File Downloaded !\n",
            "\n",
            "[%] Downloading Image #3 from https://www.sunnyskyz.com/uploads/2014/08/eiuhg-cat-standing22.jpg\n",
            "[%] File Downloaded !\n",
            "\n",
            "[%] Downloading Image #4 from https://hative.com/wp-content/uploads/2014/10/cool-pet-costumes/12-cool-pet-costumes.jpg\n",
            "[%] File Downloaded !\n",
            "\n",
            "[%] Downloading Image #5 from http://messagenote.com/wp-content/uploads/2015/09/StarBarks.jpg\n",
            "[%] File Downloaded !\n",
            "\n",
            "[%] Downloading Image #6 from http://www.recreoviral.com/wp-content/uploads/2015/02/cute-animals-in-cups-49__700-563x750.jpg\n",
            "[%] File Downloaded !\n",
            "\n",
            "[%] Downloading Image #7 from https://weneedfun.com/wp-content/uploads/2016/08/Tumblr-Ocean-Backgrounds-6.jpg\n",
            "[%] File Downloaded !\n",
            "\n",
            "[%] Downloading Image #8 from https://buzzsharer.com/wp-content/uploads/2016/03/french-bulldog-birthday.jpg\n",
            "[%] File Downloaded !\n",
            "\n",
            "[%] Downloading Image #9 from https://wallpapersite.com/images/wallpapers/white-horse-1440x2560-cute-girl-cute-dog-landscape-dream-5k-13689.jpg\n",
            "[!] Issue getting: https://wallpapersite.com/images/wallpapers/white-horse-1440x2560-cute-girl-cute-dog-landscape-dream-5k-13689.jpg\n",
            "[!] Error:: HTTP Error 404: Not Found\n",
            "[%] Downloading Image #9 from http://icanbecreative.com/resources/files/articles/photography-by-chris-slabber/light-smoke-double-exposure-women-black-zoom.jpg\n",
            "[%] File Downloaded !\n",
            "\n",
            "[%] Downloading Image #10 from https://wallpapersite.com/images/wallpapers/dog-1440x2560-silhouette-sunset-3877.jpg\n",
            "[!] Issue getting: https://wallpapersite.com/images/wallpapers/dog-1440x2560-silhouette-sunset-3877.jpg\n",
            "[!] Error:: HTTP Error 404: Not Found\n",
            "[%] Downloading Image #10 from https://www.vivalasvegas.net/wp-content/uploads/2019/01/bowl2-300x199.jpg\n",
            "[%] File Downloaded !\n",
            "\n",
            "[%] Downloading Image #11 from https://www.recreoviral.com/wp-content/uploads/2015/04/Perros-abrazando-a-sus-Dueños-20.jpg\n",
            "[!] Issue getting: https://www.recreoviral.com/wp-content/uploads/2015/04/Perros-abrazando-a-sus-Dueños-20.jpg\n",
            "[!] Error:: 'ascii' codec can't encode character '\\xf1' in position 58: ordinal not in range(128)\n",
            "\n",
            "\n",
            "[!!]Indexing page: 2\n",
            "\n",
            "[%] Indexed 13 Images on Page 2.\n",
            "\n",
            "===============================================\n",
            "\n",
            "[%] Downloading Image #11 from http://2.bp.blogspot.com/-9QaOdl2TjiQ/ULXmDxMf6tI/AAAAAAAAEAU/PlPzEYknG4M/s1600/white_dog_blue_eyes.jpg\n",
            "[%] File Downloaded !\n",
            "\n",
            "[%] Downloading Image #12 from https://www.top13.net/wp-content/uploads/2015/11/perfectly-timed-dog-pictures-5.jpg\n",
            "[%] File Downloaded !\n",
            "\n",
            "[%] Downloading Image #13 from https://www.sunnyskyz.com/uploads/2014/08/eiuhg-cat-standing22.jpg\n",
            "[%] File Downloaded !\n",
            "\n",
            "[%] Downloading Image #14 from https://hative.com/wp-content/uploads/2014/10/cool-pet-costumes/12-cool-pet-costumes.jpg\n",
            "[%] File Downloaded !\n",
            "\n",
            "[%] Downloading Image #15 from http://messagenote.com/wp-content/uploads/2015/09/StarBarks.jpg\n",
            "[%] File Downloaded !\n",
            "\n",
            "[%] Downloading Image #16 from http://www.recreoviral.com/wp-content/uploads/2015/02/cute-animals-in-cups-49__700-563x750.jpg\n",
            "[%] File Downloaded !\n",
            "\n",
            "[%] Downloading Image #17 from https://weneedfun.com/wp-content/uploads/2016/08/Tumblr-Ocean-Backgrounds-6.jpg\n",
            "[%] File Downloaded !\n",
            "\n",
            "[%] Downloading Image #18 from https://buzzsharer.com/wp-content/uploads/2016/03/french-bulldog-birthday.jpg\n",
            "[%] File Downloaded !\n",
            "\n",
            "[%] Downloading Image #19 from https://wallpapersite.com/images/wallpapers/white-horse-1440x2560-cute-girl-cute-dog-landscape-dream-5k-13689.jpg\n",
            "[!] Issue getting: https://wallpapersite.com/images/wallpapers/white-horse-1440x2560-cute-girl-cute-dog-landscape-dream-5k-13689.jpg\n",
            "[!] Error:: HTTP Error 404: Not Found\n",
            "[%] Downloading Image #19 from http://icanbecreative.com/resources/files/articles/photography-by-chris-slabber/light-smoke-double-exposure-women-black-zoom.jpg\n",
            "[%] File Downloaded !\n",
            "\n",
            "[%] Downloading Image #20 from https://wallpapersite.com/images/wallpapers/dog-1440x2560-silhouette-sunset-3877.jpg\n",
            "[!] Issue getting: https://wallpapersite.com/images/wallpapers/dog-1440x2560-silhouette-sunset-3877.jpg\n",
            "[!] Error:: HTTP Error 404: Not Found\n",
            "[%] Downloading Image #20 from https://www.vivalasvegas.net/wp-content/uploads/2019/01/bowl2-300x199.jpg\n",
            "[%] File Downloaded !\n",
            "\n",
            "[%] Downloading Image #21 from https://www.recreoviral.com/wp-content/uploads/2015/04/Perros-abrazando-a-sus-Dueños-20.jpg\n",
            "[!] Issue getting: https://www.recreoviral.com/wp-content/uploads/2015/04/Perros-abrazando-a-sus-Dueños-20.jpg\n",
            "[!] Error:: 'ascii' codec can't encode character '\\xf1' in position 58: ordinal not in range(128)\n",
            "\n",
            "\n",
            "[!!]Indexing page: 3\n",
            "\n",
            "[%] Indexed 12 Images on Page 3.\n",
            "\n",
            "===============================================\n",
            "\n",
            "[%] Downloading Image #21 from http://tranquilmonkey.com/wp-content/uploads/2014/07/funny-underwater-dog-photos-6.jpg\n",
            "[%] File Downloaded !\n",
            "\n",
            "[%] Downloading Image #22 from https://ww1.prweb.com/prfiles/2005/08/05/270032/ISSBD.jpg\n",
            "[%] File Downloaded !\n",
            "\n",
            "[%] Downloading Image #23 from https://izismile.com/img/img2/20090126/bonus/2/wracked_house_03.jpg\n",
            "[%] File Downloaded !\n",
            "\n",
            "[%] Downloading Image #24 from http://cdn.themindcircle.com/wp-content/uploads/2017/08/funny-cat-fails-6.jpg\n",
            "[%] File Downloaded !\n",
            "\n",
            "[%] Downloading Image #25 from https://www.recreoviral.com/wp-content/uploads/2015/01/growing-up-sucks-cute-dogs-010-funny-bits-562x750.jpg\n",
            "[%] File Downloaded !\n",
            "\n",
            "[%] Downloading Image #26 from https://wallpapersite.com/images/wallpapers/boat-1920x1200-clear-water-rocks-4k-10100.jpg\n",
            "[!] Issue getting: https://wallpapersite.com/images/wallpapers/boat-1920x1200-clear-water-rocks-4k-10100.jpg\n",
            "[!] Error:: HTTP Error 404: Not Found\n",
            "[%] Downloading Image #26 from http://pics.lolme.org/2013/08/hot-dog-legs-13.jpg\n",
            "[%] File Downloaded !\n",
            "\n",
            "[%] Downloading Image #27 from https://www.gravetics.com/wp-content/uploads/2017/07/Dalmatian-Firefighter.jpg\n",
            "[%] File Downloaded !\n",
            "\n",
            "[%] Downloading Image #28 from http://www.barnorama.com/wp-content/uploads/2011/02/1744.jpg\n",
            "[%] File Downloaded !\n",
            "\n",
            "[%] Downloading Image #29 from http://www.okchicas.com/wp-content/uploads/2015/02/Los-perros-más-pequeños-del-mundo-21.jpg\n",
            "[!] Issue getting: http://www.okchicas.com/wp-content/uploads/2015/02/Los-perros-más-pequeños-del-mundo-21.jpg\n",
            "[!] Error:: 'ascii' codec can't encode character '\\xe1' in position 44: ordinal not in range(128)\n",
            "[%] Downloading Image #29 from http://www.recreoviral.com/wp-content/uploads/2015/07/30-pasteles-realesnutria.jpg\n",
            "[%] File Downloaded !\n",
            "\n",
            "[%] Downloading Image #30 from https://hative.com/wp-content/uploads/2014/04/cardboard-crafts/5-cardboard-robot-clothing.jpg\n",
            "[%] File Downloaded !\n",
            "\n",
            "time: 11.5 s\n"
          ],
          "name": "stdout"
        }
      ]
    },
    {
      "cell_type": "code",
      "metadata": {
        "id": "pHns9cHV3MR4",
        "outputId": "136bb2ab-723c-4801-8975-1d283dfe0614",
        "colab": {
          "base_uri": "https://localhost:8080/",
          "height": 1000
        }
      },
      "source": [
        "from bing_image_downloader import downloader\n",
        "downloader.download(\"laptop\",limit=30,output_dir='images',adult_filter_off=True)"
      ],
      "execution_count": 55,
      "outputs": [
        {
          "output_type": "stream",
          "text": [
            "[!] Issue getting: https://wallpapersite.com/images/wallpapers/vr-concept-1440x2560-virtual-reality-headset-203.jpg\n",
            "[!] Error:: HTTP Error 404: Not Found\n",
            "[%] Downloading Image #1 from https://wallpapersite.com/images/wallpapers/shadow-of-the-colossus-1440x2560-playstation-4-2018-4k-8k-10917.jpg\n",
            "[!] Issue getting: https://wallpapersite.com/images/wallpapers/shadow-of-the-colossus-1440x2560-playstation-4-2018-4k-8k-10917.jpg\n",
            "[!] Error:: HTTP Error 404: Not Found\n",
            "[%] Downloading Image #1 from https://wallpapersite.com/images/wallpapers/poppy-field-1440x2560-sunset-red-poppies-hd-5k-3197.jpg\n",
            "[!] Issue getting: https://wallpapersite.com/images/wallpapers/poppy-field-1440x2560-sunset-red-poppies-hd-5k-3197.jpg\n",
            "[!] Error:: HTTP Error 404: Not Found\n",
            "[%] Downloading Image #1 from https://wallpapersite.com/images/wallpapers/yennefer-1440x2560-gwent-the-witcher-card-game-4k-8k-8257.jpg\n",
            "[!] Issue getting: https://wallpapersite.com/images/wallpapers/yennefer-1440x2560-gwent-the-witcher-card-game-4k-8k-8257.jpg\n",
            "[!] Error:: HTTP Error 404: Not Found\n",
            "[%] Downloading Image #1 from https://wallpapersite.com/images/wallpapers/sony-ps4-720x1280-playstation-4-video-game-console-hd-5k-8391.jpg\n",
            "[!] Issue getting: https://wallpapersite.com/images/wallpapers/sony-ps4-720x1280-playstation-4-video-game-console-hd-5k-8391.jpg\n",
            "[!] Error:: HTTP Error 404: Not Found\n",
            "\n",
            "\n",
            "[!!]Indexing page: 7\n",
            "\n",
            "[%] Indexed 8 Images on Page 7.\n",
            "\n",
            "===============================================\n",
            "\n",
            "[%] Downloading Image #1 from https://wallpapersite.com/images/wallpapers/black-knight-720x1280-dark-souls-iii-291.jpg\n",
            "[!] Issue getting: https://wallpapersite.com/images/wallpapers/black-knight-720x1280-dark-souls-iii-291.jpg\n",
            "[!] Error:: HTTP Error 404: Not Found\n",
            "[%] Downloading Image #1 from https://wallpapersite.com/images/wallpapers/colors-1440x2560-blast-dark-background-macbook-pro-stock-6403.jpg\n",
            "[!] Issue getting: https://wallpapersite.com/images/wallpapers/colors-1440x2560-blast-dark-background-macbook-pro-stock-6403.jpg\n",
            "[!] Error:: HTTP Error 404: Not Found\n",
            "[%] Downloading Image #1 from https://wallpapersite.com/images/wallpapers/carpathian-mountains-640x1136-snow-winter-sunset-pine-trees-4k-5626.jpg\n",
            "[!] Issue getting: https://wallpapersite.com/images/wallpapers/carpathian-mountains-640x1136-snow-winter-sunset-pine-trees-4k-5626.jpg\n",
            "[!] Error:: HTTP Error 404: Not Found\n",
            "[%] Downloading Image #1 from https://wallpapersite.com/images/wallpapers/la-defense-1440x2560-paris-4k-2896.jpg\n",
            "[!] Issue getting: https://wallpapersite.com/images/wallpapers/la-defense-1440x2560-paris-4k-2896.jpg\n",
            "[!] Error:: HTTP Error 404: Not Found\n",
            "[%] Downloading Image #1 from https://wallpapersite.com/images/wallpapers/wasteland-3-1440x2560-2019-games-5k-3796.jpg\n",
            "[!] Issue getting: https://wallpapersite.com/images/wallpapers/wasteland-3-1440x2560-2019-games-5k-3796.jpg\n",
            "[!] Error:: HTTP Error 404: Not Found\n",
            "[%] Downloading Image #1 from https://wallpapersite.com/images/wallpapers/astronaut-640x960-dream-surreal-colorful-planets-hd-17624.jpg\n",
            "[!] Issue getting: https://wallpapersite.com/images/wallpapers/astronaut-640x960-dream-surreal-colorful-planets-hd-17624.jpg\n",
            "[!] Error:: HTTP Error 404: Not Found\n",
            "[%] Downloading Image #1 from https://wallpapersite.com/images/wallpapers/swans-640x960-love-heart-romantic-lovebirds-pair-hd-930.jpg\n",
            "[!] Issue getting: https://wallpapersite.com/images/wallpapers/swans-640x960-love-heart-romantic-lovebirds-pair-hd-930.jpg\n",
            "[!] Error:: HTTP Error 404: Not Found\n",
            "[%] Downloading Image #1 from https://wallpapersite.com/images/wallpapers/alfilorios-reservoir-1440x2560-sunset-spain-hd-4266.jpg\n",
            "[!] Issue getting: https://wallpapersite.com/images/wallpapers/alfilorios-reservoir-1440x2560-sunset-spain-hd-4266.jpg\n",
            "[!] Error:: HTTP Error 404: Not Found\n",
            "\n",
            "\n",
            "[!!]Indexing page: 8\n",
            "\n",
            "[%] Indexed 7 Images on Page 8.\n",
            "\n",
            "===============================================\n",
            "\n",
            "[%] Downloading Image #1 from https://wallpapersite.com/images/wallpapers/deep-rock-galactic-1440x2560-xbox-one-pc-2018-4k-8240.jpg\n",
            "[!] Issue getting: https://wallpapersite.com/images/wallpapers/deep-rock-galactic-1440x2560-xbox-one-pc-2018-4k-8240.jpg\n",
            "[!] Error:: HTTP Error 404: Not Found\n",
            "[%] Downloading Image #1 from https://wallpapersite.com/images/wallpapers/time-640x1136-clock-hd-8479.jpg\n",
            "[!] Issue getting: https://wallpapersite.com/images/wallpapers/time-640x1136-clock-hd-8479.jpg\n",
            "[!] Error:: HTTP Error 404: Not Found\n",
            "[%] Downloading Image #1 from https://wallpapersite.com/images/wallpapers/skogafoss-waterfall-1440x2560-skoga-river-iceland-hd-5k-14667.jpg\n",
            "[!] Issue getting: https://wallpapersite.com/images/wallpapers/skogafoss-waterfall-1440x2560-skoga-river-iceland-hd-5k-14667.jpg\n",
            "[!] Error:: HTTP Error 404: Not Found\n",
            "[%] Downloading Image #1 from https://wallpapersite.com/images/wallpapers/cats-720x1280-4k-4099.jpg\n",
            "[!] Issue getting: https://wallpapersite.com/images/wallpapers/cats-720x1280-4k-4099.jpg\n",
            "[!] Error:: HTTP Error 404: Not Found\n",
            "[%] Downloading Image #1 from https://wallpapersite.com/images/wallpapers/astronaut-640x960-space-suit-hd-9030.jpg\n",
            "[!] Issue getting: https://wallpapersite.com/images/wallpapers/astronaut-640x960-space-suit-hd-9030.jpg\n",
            "[!] Error:: HTTP Error 404: Not Found\n",
            "[%] Downloading Image #1 from https://wallpapersite.com/images/wallpapers/darksiders-3-1440x2560-fury-2018-4k-8k-7451.jpg\n"
          ],
          "name": "stdout"
        },
        {
          "output_type": "error",
          "ename": "KeyboardInterrupt",
          "evalue": "ignored",
          "traceback": [
            "\u001b[0;31m---------------------------------------------------------------------------\u001b[0m",
            "\u001b[0;31mKeyboardInterrupt\u001b[0m                         Traceback (most recent call last)",
            "\u001b[0;32m<ipython-input-55-6fc4473ef9e4>\u001b[0m in \u001b[0;36m<module>\u001b[0;34m()\u001b[0m\n\u001b[1;32m      1\u001b[0m \u001b[0;32mfrom\u001b[0m \u001b[0mbing_image_downloader\u001b[0m \u001b[0;32mimport\u001b[0m \u001b[0mdownloader\u001b[0m\u001b[0;34m\u001b[0m\u001b[0;34m\u001b[0m\u001b[0m\n\u001b[0;32m----> 2\u001b[0;31m \u001b[0mdownloader\u001b[0m\u001b[0;34m.\u001b[0m\u001b[0mdownload\u001b[0m\u001b[0;34m(\u001b[0m\u001b[0;34m\"laptop\"\u001b[0m\u001b[0;34m,\u001b[0m\u001b[0mlimit\u001b[0m\u001b[0;34m=\u001b[0m\u001b[0;36m30\u001b[0m\u001b[0;34m,\u001b[0m\u001b[0moutput_dir\u001b[0m\u001b[0;34m=\u001b[0m\u001b[0;34m'images'\u001b[0m\u001b[0;34m,\u001b[0m\u001b[0madult_filter_off\u001b[0m\u001b[0;34m=\u001b[0m\u001b[0;32mTrue\u001b[0m\u001b[0;34m)\u001b[0m\u001b[0;34m\u001b[0m\u001b[0;34m\u001b[0m\u001b[0m\n\u001b[0m",
            "\u001b[0;32m/usr/local/lib/python3.6/dist-packages/bing_image_downloader/downloader.py\u001b[0m in \u001b[0;36mdownload\u001b[0;34m(query, limit, output_dir, adult_filter_off, force_replace, timeout)\u001b[0m\n\u001b[1;32m     33\u001b[0m \u001b[0;34m\u001b[0m\u001b[0m\n\u001b[1;32m     34\u001b[0m     \u001b[0mbing\u001b[0m \u001b[0;34m=\u001b[0m \u001b[0mBing\u001b[0m\u001b[0;34m(\u001b[0m\u001b[0mquery\u001b[0m\u001b[0;34m,\u001b[0m \u001b[0mlimit\u001b[0m\u001b[0;34m,\u001b[0m \u001b[0moutput_dir\u001b[0m\u001b[0;34m,\u001b[0m \u001b[0madult\u001b[0m\u001b[0;34m,\u001b[0m \u001b[0mtimeout\u001b[0m\u001b[0;34m)\u001b[0m\u001b[0;34m\u001b[0m\u001b[0;34m\u001b[0m\u001b[0m\n\u001b[0;32m---> 35\u001b[0;31m     \u001b[0mbing\u001b[0m\u001b[0;34m.\u001b[0m\u001b[0mrun\u001b[0m\u001b[0;34m(\u001b[0m\u001b[0;34m)\u001b[0m\u001b[0;34m\u001b[0m\u001b[0;34m\u001b[0m\u001b[0m\n\u001b[0m\u001b[1;32m     36\u001b[0m \u001b[0;34m\u001b[0m\u001b[0m\n\u001b[1;32m     37\u001b[0m \u001b[0;34m\u001b[0m\u001b[0m\n",
            "\u001b[0;32m/usr/local/lib/python3.6/dist-packages/bing_image_downloader/bing.py\u001b[0m in \u001b[0;36mrun\u001b[0;34m(self)\u001b[0m\n\u001b[1;32m     77\u001b[0m             \u001b[0;32mfor\u001b[0m \u001b[0mlink\u001b[0m \u001b[0;32min\u001b[0m \u001b[0mlinks\u001b[0m\u001b[0;34m:\u001b[0m\u001b[0;34m\u001b[0m\u001b[0;34m\u001b[0m\u001b[0m\n\u001b[1;32m     78\u001b[0m                 \u001b[0;32mif\u001b[0m \u001b[0mself\u001b[0m\u001b[0;34m.\u001b[0m\u001b[0mdownload_count\u001b[0m \u001b[0;34m<\u001b[0m \u001b[0mself\u001b[0m\u001b[0;34m.\u001b[0m\u001b[0mlimit\u001b[0m\u001b[0;34m:\u001b[0m\u001b[0;34m\u001b[0m\u001b[0;34m\u001b[0m\u001b[0m\n\u001b[0;32m---> 79\u001b[0;31m                     \u001b[0mself\u001b[0m\u001b[0;34m.\u001b[0m\u001b[0mdownload_image\u001b[0m\u001b[0;34m(\u001b[0m\u001b[0mlink\u001b[0m\u001b[0;34m)\u001b[0m\u001b[0;34m\u001b[0m\u001b[0;34m\u001b[0m\u001b[0m\n\u001b[0m\u001b[1;32m     80\u001b[0m                 \u001b[0;32melse\u001b[0m\u001b[0;34m:\u001b[0m\u001b[0;34m\u001b[0m\u001b[0;34m\u001b[0m\u001b[0m\n\u001b[1;32m     81\u001b[0m                     \u001b[0mprint\u001b[0m\u001b[0;34m(\u001b[0m\u001b[0;34m\"\\n\\n[%] Done. Downloaded {} images.\"\u001b[0m\u001b[0;34m.\u001b[0m\u001b[0mformat\u001b[0m\u001b[0;34m(\u001b[0m\u001b[0mself\u001b[0m\u001b[0;34m.\u001b[0m\u001b[0mdownload_count\u001b[0m\u001b[0;34m)\u001b[0m\u001b[0;34m)\u001b[0m\u001b[0;34m\u001b[0m\u001b[0;34m\u001b[0m\u001b[0m\n",
            "\u001b[0;32m/usr/local/lib/python3.6/dist-packages/bing_image_downloader/bing.py\u001b[0m in \u001b[0;36mdownload_image\u001b[0;34m(self, link)\u001b[0m\n\u001b[1;32m     54\u001b[0m \u001b[0;34m\u001b[0m\u001b[0m\n\u001b[1;32m     55\u001b[0m             self.save_image(link, \"{}/{}/{}/\".format(os.getcwd(), self.output_dir, self.query) + \"Image_{}.{}\".format(\n\u001b[0;32m---> 56\u001b[0;31m                 str(self.download_count), file_type))\n\u001b[0m\u001b[1;32m     57\u001b[0m             \u001b[0mprint\u001b[0m\u001b[0;34m(\u001b[0m\u001b[0;34m\"[%] File Downloaded !\\n\"\u001b[0m\u001b[0;34m)\u001b[0m\u001b[0;34m\u001b[0m\u001b[0;34m\u001b[0m\u001b[0m\n\u001b[1;32m     58\u001b[0m         \u001b[0;32mexcept\u001b[0m \u001b[0mException\u001b[0m \u001b[0;32mas\u001b[0m \u001b[0me\u001b[0m\u001b[0;34m:\u001b[0m\u001b[0;34m\u001b[0m\u001b[0;34m\u001b[0m\u001b[0m\n",
            "\u001b[0;32m/usr/local/lib/python3.6/dist-packages/bing_image_downloader/bing.py\u001b[0m in \u001b[0;36msave_image\u001b[0;34m(self, link, file_path)\u001b[0m\n\u001b[1;32m     32\u001b[0m     \u001b[0;32mdef\u001b[0m \u001b[0msave_image\u001b[0m\u001b[0;34m(\u001b[0m\u001b[0mself\u001b[0m\u001b[0;34m,\u001b[0m \u001b[0mlink\u001b[0m\u001b[0;34m,\u001b[0m \u001b[0mfile_path\u001b[0m\u001b[0;34m)\u001b[0m\u001b[0;34m:\u001b[0m\u001b[0;34m\u001b[0m\u001b[0;34m\u001b[0m\u001b[0m\n\u001b[1;32m     33\u001b[0m         \u001b[0mrequest\u001b[0m \u001b[0;34m=\u001b[0m \u001b[0murllib\u001b[0m\u001b[0;34m.\u001b[0m\u001b[0mrequest\u001b[0m\u001b[0;34m.\u001b[0m\u001b[0mRequest\u001b[0m\u001b[0;34m(\u001b[0m\u001b[0mlink\u001b[0m\u001b[0;34m,\u001b[0m \u001b[0;32mNone\u001b[0m\u001b[0;34m,\u001b[0m \u001b[0mself\u001b[0m\u001b[0;34m.\u001b[0m\u001b[0mheaders\u001b[0m\u001b[0;34m)\u001b[0m\u001b[0;34m\u001b[0m\u001b[0;34m\u001b[0m\u001b[0m\n\u001b[0;32m---> 34\u001b[0;31m         \u001b[0mimage\u001b[0m \u001b[0;34m=\u001b[0m \u001b[0murllib\u001b[0m\u001b[0;34m.\u001b[0m\u001b[0mrequest\u001b[0m\u001b[0;34m.\u001b[0m\u001b[0murlopen\u001b[0m\u001b[0;34m(\u001b[0m\u001b[0mrequest\u001b[0m\u001b[0;34m,\u001b[0m \u001b[0mtimeout\u001b[0m\u001b[0;34m=\u001b[0m\u001b[0mself\u001b[0m\u001b[0;34m.\u001b[0m\u001b[0mtimeout\u001b[0m\u001b[0;34m)\u001b[0m\u001b[0;34m.\u001b[0m\u001b[0mread\u001b[0m\u001b[0;34m(\u001b[0m\u001b[0;34m)\u001b[0m\u001b[0;34m\u001b[0m\u001b[0;34m\u001b[0m\u001b[0m\n\u001b[0m\u001b[1;32m     35\u001b[0m         \u001b[0;32mif\u001b[0m \u001b[0;32mnot\u001b[0m \u001b[0mimghdr\u001b[0m\u001b[0;34m.\u001b[0m\u001b[0mwhat\u001b[0m\u001b[0;34m(\u001b[0m\u001b[0;32mNone\u001b[0m\u001b[0;34m,\u001b[0m \u001b[0mimage\u001b[0m\u001b[0;34m)\u001b[0m\u001b[0;34m:\u001b[0m\u001b[0;34m\u001b[0m\u001b[0;34m\u001b[0m\u001b[0m\n\u001b[1;32m     36\u001b[0m             \u001b[0mprint\u001b[0m\u001b[0;34m(\u001b[0m\u001b[0;34m'[Error]Invalid image, not saving {}\\n'\u001b[0m\u001b[0;34m.\u001b[0m\u001b[0mformat\u001b[0m\u001b[0;34m(\u001b[0m\u001b[0mlink\u001b[0m\u001b[0;34m)\u001b[0m\u001b[0;34m)\u001b[0m\u001b[0;34m\u001b[0m\u001b[0;34m\u001b[0m\u001b[0m\n",
            "\u001b[0;32m/usr/lib/python3.6/urllib/request.py\u001b[0m in \u001b[0;36murlopen\u001b[0;34m(url, data, timeout, cafile, capath, cadefault, context)\u001b[0m\n\u001b[1;32m    221\u001b[0m     \u001b[0;32melse\u001b[0m\u001b[0;34m:\u001b[0m\u001b[0;34m\u001b[0m\u001b[0;34m\u001b[0m\u001b[0m\n\u001b[1;32m    222\u001b[0m         \u001b[0mopener\u001b[0m \u001b[0;34m=\u001b[0m \u001b[0m_opener\u001b[0m\u001b[0;34m\u001b[0m\u001b[0;34m\u001b[0m\u001b[0m\n\u001b[0;32m--> 223\u001b[0;31m     \u001b[0;32mreturn\u001b[0m \u001b[0mopener\u001b[0m\u001b[0;34m.\u001b[0m\u001b[0mopen\u001b[0m\u001b[0;34m(\u001b[0m\u001b[0murl\u001b[0m\u001b[0;34m,\u001b[0m \u001b[0mdata\u001b[0m\u001b[0;34m,\u001b[0m \u001b[0mtimeout\u001b[0m\u001b[0;34m)\u001b[0m\u001b[0;34m\u001b[0m\u001b[0;34m\u001b[0m\u001b[0m\n\u001b[0m\u001b[1;32m    224\u001b[0m \u001b[0;34m\u001b[0m\u001b[0m\n\u001b[1;32m    225\u001b[0m \u001b[0;32mdef\u001b[0m \u001b[0minstall_opener\u001b[0m\u001b[0;34m(\u001b[0m\u001b[0mopener\u001b[0m\u001b[0;34m)\u001b[0m\u001b[0;34m:\u001b[0m\u001b[0;34m\u001b[0m\u001b[0;34m\u001b[0m\u001b[0m\n",
            "\u001b[0;32m/usr/lib/python3.6/urllib/request.py\u001b[0m in \u001b[0;36mopen\u001b[0;34m(self, fullurl, data, timeout)\u001b[0m\n\u001b[1;32m    524\u001b[0m             \u001b[0mreq\u001b[0m \u001b[0;34m=\u001b[0m \u001b[0mmeth\u001b[0m\u001b[0;34m(\u001b[0m\u001b[0mreq\u001b[0m\u001b[0;34m)\u001b[0m\u001b[0;34m\u001b[0m\u001b[0;34m\u001b[0m\u001b[0m\n\u001b[1;32m    525\u001b[0m \u001b[0;34m\u001b[0m\u001b[0m\n\u001b[0;32m--> 526\u001b[0;31m         \u001b[0mresponse\u001b[0m \u001b[0;34m=\u001b[0m \u001b[0mself\u001b[0m\u001b[0;34m.\u001b[0m\u001b[0m_open\u001b[0m\u001b[0;34m(\u001b[0m\u001b[0mreq\u001b[0m\u001b[0;34m,\u001b[0m \u001b[0mdata\u001b[0m\u001b[0;34m)\u001b[0m\u001b[0;34m\u001b[0m\u001b[0;34m\u001b[0m\u001b[0m\n\u001b[0m\u001b[1;32m    527\u001b[0m \u001b[0;34m\u001b[0m\u001b[0m\n\u001b[1;32m    528\u001b[0m         \u001b[0;31m# post-process response\u001b[0m\u001b[0;34m\u001b[0m\u001b[0;34m\u001b[0m\u001b[0;34m\u001b[0m\u001b[0m\n",
            "\u001b[0;32m/usr/lib/python3.6/urllib/request.py\u001b[0m in \u001b[0;36m_open\u001b[0;34m(self, req, data)\u001b[0m\n\u001b[1;32m    542\u001b[0m         \u001b[0mprotocol\u001b[0m \u001b[0;34m=\u001b[0m \u001b[0mreq\u001b[0m\u001b[0;34m.\u001b[0m\u001b[0mtype\u001b[0m\u001b[0;34m\u001b[0m\u001b[0;34m\u001b[0m\u001b[0m\n\u001b[1;32m    543\u001b[0m         result = self._call_chain(self.handle_open, protocol, protocol +\n\u001b[0;32m--> 544\u001b[0;31m                                   '_open', req)\n\u001b[0m\u001b[1;32m    545\u001b[0m         \u001b[0;32mif\u001b[0m \u001b[0mresult\u001b[0m\u001b[0;34m:\u001b[0m\u001b[0;34m\u001b[0m\u001b[0;34m\u001b[0m\u001b[0m\n\u001b[1;32m    546\u001b[0m             \u001b[0;32mreturn\u001b[0m \u001b[0mresult\u001b[0m\u001b[0;34m\u001b[0m\u001b[0;34m\u001b[0m\u001b[0m\n",
            "\u001b[0;32m/usr/lib/python3.6/urllib/request.py\u001b[0m in \u001b[0;36m_call_chain\u001b[0;34m(self, chain, kind, meth_name, *args)\u001b[0m\n\u001b[1;32m    502\u001b[0m         \u001b[0;32mfor\u001b[0m \u001b[0mhandler\u001b[0m \u001b[0;32min\u001b[0m \u001b[0mhandlers\u001b[0m\u001b[0;34m:\u001b[0m\u001b[0;34m\u001b[0m\u001b[0;34m\u001b[0m\u001b[0m\n\u001b[1;32m    503\u001b[0m             \u001b[0mfunc\u001b[0m \u001b[0;34m=\u001b[0m \u001b[0mgetattr\u001b[0m\u001b[0;34m(\u001b[0m\u001b[0mhandler\u001b[0m\u001b[0;34m,\u001b[0m \u001b[0mmeth_name\u001b[0m\u001b[0;34m)\u001b[0m\u001b[0;34m\u001b[0m\u001b[0;34m\u001b[0m\u001b[0m\n\u001b[0;32m--> 504\u001b[0;31m             \u001b[0mresult\u001b[0m \u001b[0;34m=\u001b[0m \u001b[0mfunc\u001b[0m\u001b[0;34m(\u001b[0m\u001b[0;34m*\u001b[0m\u001b[0margs\u001b[0m\u001b[0;34m)\u001b[0m\u001b[0;34m\u001b[0m\u001b[0;34m\u001b[0m\u001b[0m\n\u001b[0m\u001b[1;32m    505\u001b[0m             \u001b[0;32mif\u001b[0m \u001b[0mresult\u001b[0m \u001b[0;32mis\u001b[0m \u001b[0;32mnot\u001b[0m \u001b[0;32mNone\u001b[0m\u001b[0;34m:\u001b[0m\u001b[0;34m\u001b[0m\u001b[0;34m\u001b[0m\u001b[0m\n\u001b[1;32m    506\u001b[0m                 \u001b[0;32mreturn\u001b[0m \u001b[0mresult\u001b[0m\u001b[0;34m\u001b[0m\u001b[0;34m\u001b[0m\u001b[0m\n",
            "\u001b[0;32m/usr/lib/python3.6/urllib/request.py\u001b[0m in \u001b[0;36mhttps_open\u001b[0;34m(self, req)\u001b[0m\n\u001b[1;32m   1366\u001b[0m         \u001b[0;32mdef\u001b[0m \u001b[0mhttps_open\u001b[0m\u001b[0;34m(\u001b[0m\u001b[0mself\u001b[0m\u001b[0;34m,\u001b[0m \u001b[0mreq\u001b[0m\u001b[0;34m)\u001b[0m\u001b[0;34m:\u001b[0m\u001b[0;34m\u001b[0m\u001b[0;34m\u001b[0m\u001b[0m\n\u001b[1;32m   1367\u001b[0m             return self.do_open(http.client.HTTPSConnection, req,\n\u001b[0;32m-> 1368\u001b[0;31m                 context=self._context, check_hostname=self._check_hostname)\n\u001b[0m\u001b[1;32m   1369\u001b[0m \u001b[0;34m\u001b[0m\u001b[0m\n\u001b[1;32m   1370\u001b[0m         \u001b[0mhttps_request\u001b[0m \u001b[0;34m=\u001b[0m \u001b[0mAbstractHTTPHandler\u001b[0m\u001b[0;34m.\u001b[0m\u001b[0mdo_request_\u001b[0m\u001b[0;34m\u001b[0m\u001b[0;34m\u001b[0m\u001b[0m\n",
            "\u001b[0;32m/usr/lib/python3.6/urllib/request.py\u001b[0m in \u001b[0;36mdo_open\u001b[0;34m(self, http_class, req, **http_conn_args)\u001b[0m\n\u001b[1;32m   1326\u001b[0m             \u001b[0;32mexcept\u001b[0m \u001b[0mOSError\u001b[0m \u001b[0;32mas\u001b[0m \u001b[0merr\u001b[0m\u001b[0;34m:\u001b[0m \u001b[0;31m# timeout error\u001b[0m\u001b[0;34m\u001b[0m\u001b[0;34m\u001b[0m\u001b[0m\n\u001b[1;32m   1327\u001b[0m                 \u001b[0;32mraise\u001b[0m \u001b[0mURLError\u001b[0m\u001b[0;34m(\u001b[0m\u001b[0merr\u001b[0m\u001b[0;34m)\u001b[0m\u001b[0;34m\u001b[0m\u001b[0;34m\u001b[0m\u001b[0m\n\u001b[0;32m-> 1328\u001b[0;31m             \u001b[0mr\u001b[0m \u001b[0;34m=\u001b[0m \u001b[0mh\u001b[0m\u001b[0;34m.\u001b[0m\u001b[0mgetresponse\u001b[0m\u001b[0;34m(\u001b[0m\u001b[0;34m)\u001b[0m\u001b[0;34m\u001b[0m\u001b[0;34m\u001b[0m\u001b[0m\n\u001b[0m\u001b[1;32m   1329\u001b[0m         \u001b[0;32mexcept\u001b[0m\u001b[0;34m:\u001b[0m\u001b[0;34m\u001b[0m\u001b[0;34m\u001b[0m\u001b[0m\n\u001b[1;32m   1330\u001b[0m             \u001b[0mh\u001b[0m\u001b[0;34m.\u001b[0m\u001b[0mclose\u001b[0m\u001b[0;34m(\u001b[0m\u001b[0;34m)\u001b[0m\u001b[0;34m\u001b[0m\u001b[0;34m\u001b[0m\u001b[0m\n",
            "\u001b[0;32m/usr/lib/python3.6/http/client.py\u001b[0m in \u001b[0;36mgetresponse\u001b[0;34m(self)\u001b[0m\n\u001b[1;32m   1371\u001b[0m         \u001b[0;32mtry\u001b[0m\u001b[0;34m:\u001b[0m\u001b[0;34m\u001b[0m\u001b[0;34m\u001b[0m\u001b[0m\n\u001b[1;32m   1372\u001b[0m             \u001b[0;32mtry\u001b[0m\u001b[0;34m:\u001b[0m\u001b[0;34m\u001b[0m\u001b[0;34m\u001b[0m\u001b[0m\n\u001b[0;32m-> 1373\u001b[0;31m                 \u001b[0mresponse\u001b[0m\u001b[0;34m.\u001b[0m\u001b[0mbegin\u001b[0m\u001b[0;34m(\u001b[0m\u001b[0;34m)\u001b[0m\u001b[0;34m\u001b[0m\u001b[0;34m\u001b[0m\u001b[0m\n\u001b[0m\u001b[1;32m   1374\u001b[0m             \u001b[0;32mexcept\u001b[0m \u001b[0mConnectionError\u001b[0m\u001b[0;34m:\u001b[0m\u001b[0;34m\u001b[0m\u001b[0;34m\u001b[0m\u001b[0m\n\u001b[1;32m   1375\u001b[0m                 \u001b[0mself\u001b[0m\u001b[0;34m.\u001b[0m\u001b[0mclose\u001b[0m\u001b[0;34m(\u001b[0m\u001b[0;34m)\u001b[0m\u001b[0;34m\u001b[0m\u001b[0;34m\u001b[0m\u001b[0m\n",
            "\u001b[0;32m/usr/lib/python3.6/http/client.py\u001b[0m in \u001b[0;36mbegin\u001b[0;34m(self)\u001b[0m\n\u001b[1;32m    309\u001b[0m         \u001b[0;31m# read until we get a non-100 response\u001b[0m\u001b[0;34m\u001b[0m\u001b[0;34m\u001b[0m\u001b[0;34m\u001b[0m\u001b[0m\n\u001b[1;32m    310\u001b[0m         \u001b[0;32mwhile\u001b[0m \u001b[0;32mTrue\u001b[0m\u001b[0;34m:\u001b[0m\u001b[0;34m\u001b[0m\u001b[0;34m\u001b[0m\u001b[0m\n\u001b[0;32m--> 311\u001b[0;31m             \u001b[0mversion\u001b[0m\u001b[0;34m,\u001b[0m \u001b[0mstatus\u001b[0m\u001b[0;34m,\u001b[0m \u001b[0mreason\u001b[0m \u001b[0;34m=\u001b[0m \u001b[0mself\u001b[0m\u001b[0;34m.\u001b[0m\u001b[0m_read_status\u001b[0m\u001b[0;34m(\u001b[0m\u001b[0;34m)\u001b[0m\u001b[0;34m\u001b[0m\u001b[0;34m\u001b[0m\u001b[0m\n\u001b[0m\u001b[1;32m    312\u001b[0m             \u001b[0;32mif\u001b[0m \u001b[0mstatus\u001b[0m \u001b[0;34m!=\u001b[0m \u001b[0mCONTINUE\u001b[0m\u001b[0;34m:\u001b[0m\u001b[0;34m\u001b[0m\u001b[0;34m\u001b[0m\u001b[0m\n\u001b[1;32m    313\u001b[0m                 \u001b[0;32mbreak\u001b[0m\u001b[0;34m\u001b[0m\u001b[0;34m\u001b[0m\u001b[0m\n",
            "\u001b[0;32m/usr/lib/python3.6/http/client.py\u001b[0m in \u001b[0;36m_read_status\u001b[0;34m(self)\u001b[0m\n\u001b[1;32m    270\u001b[0m \u001b[0;34m\u001b[0m\u001b[0m\n\u001b[1;32m    271\u001b[0m     \u001b[0;32mdef\u001b[0m \u001b[0m_read_status\u001b[0m\u001b[0;34m(\u001b[0m\u001b[0mself\u001b[0m\u001b[0;34m)\u001b[0m\u001b[0;34m:\u001b[0m\u001b[0;34m\u001b[0m\u001b[0;34m\u001b[0m\u001b[0m\n\u001b[0;32m--> 272\u001b[0;31m         \u001b[0mline\u001b[0m \u001b[0;34m=\u001b[0m \u001b[0mstr\u001b[0m\u001b[0;34m(\u001b[0m\u001b[0mself\u001b[0m\u001b[0;34m.\u001b[0m\u001b[0mfp\u001b[0m\u001b[0;34m.\u001b[0m\u001b[0mreadline\u001b[0m\u001b[0;34m(\u001b[0m\u001b[0m_MAXLINE\u001b[0m \u001b[0;34m+\u001b[0m \u001b[0;36m1\u001b[0m\u001b[0;34m)\u001b[0m\u001b[0;34m,\u001b[0m \u001b[0;34m\"iso-8859-1\"\u001b[0m\u001b[0;34m)\u001b[0m\u001b[0;34m\u001b[0m\u001b[0;34m\u001b[0m\u001b[0m\n\u001b[0m\u001b[1;32m    273\u001b[0m         \u001b[0;32mif\u001b[0m \u001b[0mlen\u001b[0m\u001b[0;34m(\u001b[0m\u001b[0mline\u001b[0m\u001b[0;34m)\u001b[0m \u001b[0;34m>\u001b[0m \u001b[0m_MAXLINE\u001b[0m\u001b[0;34m:\u001b[0m\u001b[0;34m\u001b[0m\u001b[0;34m\u001b[0m\u001b[0m\n\u001b[1;32m    274\u001b[0m             \u001b[0;32mraise\u001b[0m \u001b[0mLineTooLong\u001b[0m\u001b[0;34m(\u001b[0m\u001b[0;34m\"status line\"\u001b[0m\u001b[0;34m)\u001b[0m\u001b[0;34m\u001b[0m\u001b[0;34m\u001b[0m\u001b[0m\n",
            "\u001b[0;32m/usr/lib/python3.6/socket.py\u001b[0m in \u001b[0;36mreadinto\u001b[0;34m(self, b)\u001b[0m\n\u001b[1;32m    584\u001b[0m         \u001b[0;32mwhile\u001b[0m \u001b[0;32mTrue\u001b[0m\u001b[0;34m:\u001b[0m\u001b[0;34m\u001b[0m\u001b[0;34m\u001b[0m\u001b[0m\n\u001b[1;32m    585\u001b[0m             \u001b[0;32mtry\u001b[0m\u001b[0;34m:\u001b[0m\u001b[0;34m\u001b[0m\u001b[0;34m\u001b[0m\u001b[0m\n\u001b[0;32m--> 586\u001b[0;31m                 \u001b[0;32mreturn\u001b[0m \u001b[0mself\u001b[0m\u001b[0;34m.\u001b[0m\u001b[0m_sock\u001b[0m\u001b[0;34m.\u001b[0m\u001b[0mrecv_into\u001b[0m\u001b[0;34m(\u001b[0m\u001b[0mb\u001b[0m\u001b[0;34m)\u001b[0m\u001b[0;34m\u001b[0m\u001b[0;34m\u001b[0m\u001b[0m\n\u001b[0m\u001b[1;32m    587\u001b[0m             \u001b[0;32mexcept\u001b[0m \u001b[0mtimeout\u001b[0m\u001b[0;34m:\u001b[0m\u001b[0;34m\u001b[0m\u001b[0;34m\u001b[0m\u001b[0m\n\u001b[1;32m    588\u001b[0m                 \u001b[0mself\u001b[0m\u001b[0;34m.\u001b[0m\u001b[0m_timeout_occurred\u001b[0m \u001b[0;34m=\u001b[0m \u001b[0;32mTrue\u001b[0m\u001b[0;34m\u001b[0m\u001b[0;34m\u001b[0m\u001b[0m\n",
            "\u001b[0;32m/usr/lib/python3.6/ssl.py\u001b[0m in \u001b[0;36mrecv_into\u001b[0;34m(self, buffer, nbytes, flags)\u001b[0m\n\u001b[1;32m   1010\u001b[0m                   \u001b[0;34m\"non-zero flags not allowed in calls to recv_into() on %s\"\u001b[0m \u001b[0;34m%\u001b[0m\u001b[0;34m\u001b[0m\u001b[0;34m\u001b[0m\u001b[0m\n\u001b[1;32m   1011\u001b[0m                   self.__class__)\n\u001b[0;32m-> 1012\u001b[0;31m             \u001b[0;32mreturn\u001b[0m \u001b[0mself\u001b[0m\u001b[0;34m.\u001b[0m\u001b[0mread\u001b[0m\u001b[0;34m(\u001b[0m\u001b[0mnbytes\u001b[0m\u001b[0;34m,\u001b[0m \u001b[0mbuffer\u001b[0m\u001b[0;34m)\u001b[0m\u001b[0;34m\u001b[0m\u001b[0;34m\u001b[0m\u001b[0m\n\u001b[0m\u001b[1;32m   1013\u001b[0m         \u001b[0;32melse\u001b[0m\u001b[0;34m:\u001b[0m\u001b[0;34m\u001b[0m\u001b[0;34m\u001b[0m\u001b[0m\n\u001b[1;32m   1014\u001b[0m             \u001b[0;32mreturn\u001b[0m \u001b[0msocket\u001b[0m\u001b[0;34m.\u001b[0m\u001b[0mrecv_into\u001b[0m\u001b[0;34m(\u001b[0m\u001b[0mself\u001b[0m\u001b[0;34m,\u001b[0m \u001b[0mbuffer\u001b[0m\u001b[0;34m,\u001b[0m \u001b[0mnbytes\u001b[0m\u001b[0;34m,\u001b[0m \u001b[0mflags\u001b[0m\u001b[0;34m)\u001b[0m\u001b[0;34m\u001b[0m\u001b[0;34m\u001b[0m\u001b[0m\n",
            "\u001b[0;32m/usr/lib/python3.6/ssl.py\u001b[0m in \u001b[0;36mread\u001b[0;34m(self, len, buffer)\u001b[0m\n\u001b[1;32m    872\u001b[0m             \u001b[0;32mraise\u001b[0m \u001b[0mValueError\u001b[0m\u001b[0;34m(\u001b[0m\u001b[0;34m\"Read on closed or unwrapped SSL socket.\"\u001b[0m\u001b[0;34m)\u001b[0m\u001b[0;34m\u001b[0m\u001b[0;34m\u001b[0m\u001b[0m\n\u001b[1;32m    873\u001b[0m         \u001b[0;32mtry\u001b[0m\u001b[0;34m:\u001b[0m\u001b[0;34m\u001b[0m\u001b[0;34m\u001b[0m\u001b[0m\n\u001b[0;32m--> 874\u001b[0;31m             \u001b[0;32mreturn\u001b[0m \u001b[0mself\u001b[0m\u001b[0;34m.\u001b[0m\u001b[0m_sslobj\u001b[0m\u001b[0;34m.\u001b[0m\u001b[0mread\u001b[0m\u001b[0;34m(\u001b[0m\u001b[0mlen\u001b[0m\u001b[0;34m,\u001b[0m \u001b[0mbuffer\u001b[0m\u001b[0;34m)\u001b[0m\u001b[0;34m\u001b[0m\u001b[0;34m\u001b[0m\u001b[0m\n\u001b[0m\u001b[1;32m    875\u001b[0m         \u001b[0;32mexcept\u001b[0m \u001b[0mSSLError\u001b[0m \u001b[0;32mas\u001b[0m \u001b[0mx\u001b[0m\u001b[0;34m:\u001b[0m\u001b[0;34m\u001b[0m\u001b[0;34m\u001b[0m\u001b[0m\n\u001b[1;32m    876\u001b[0m             \u001b[0;32mif\u001b[0m \u001b[0mx\u001b[0m\u001b[0;34m.\u001b[0m\u001b[0margs\u001b[0m\u001b[0;34m[\u001b[0m\u001b[0;36m0\u001b[0m\u001b[0;34m]\u001b[0m \u001b[0;34m==\u001b[0m \u001b[0mSSL_ERROR_EOF\u001b[0m \u001b[0;32mand\u001b[0m \u001b[0mself\u001b[0m\u001b[0;34m.\u001b[0m\u001b[0msuppress_ragged_eofs\u001b[0m\u001b[0;34m:\u001b[0m\u001b[0;34m\u001b[0m\u001b[0;34m\u001b[0m\u001b[0m\n",
            "\u001b[0;32m/usr/lib/python3.6/ssl.py\u001b[0m in \u001b[0;36mread\u001b[0;34m(self, len, buffer)\u001b[0m\n\u001b[1;32m    629\u001b[0m         \"\"\"\n\u001b[1;32m    630\u001b[0m         \u001b[0;32mif\u001b[0m \u001b[0mbuffer\u001b[0m \u001b[0;32mis\u001b[0m \u001b[0;32mnot\u001b[0m \u001b[0;32mNone\u001b[0m\u001b[0;34m:\u001b[0m\u001b[0;34m\u001b[0m\u001b[0;34m\u001b[0m\u001b[0m\n\u001b[0;32m--> 631\u001b[0;31m             \u001b[0mv\u001b[0m \u001b[0;34m=\u001b[0m \u001b[0mself\u001b[0m\u001b[0;34m.\u001b[0m\u001b[0m_sslobj\u001b[0m\u001b[0;34m.\u001b[0m\u001b[0mread\u001b[0m\u001b[0;34m(\u001b[0m\u001b[0mlen\u001b[0m\u001b[0;34m,\u001b[0m \u001b[0mbuffer\u001b[0m\u001b[0;34m)\u001b[0m\u001b[0;34m\u001b[0m\u001b[0;34m\u001b[0m\u001b[0m\n\u001b[0m\u001b[1;32m    632\u001b[0m         \u001b[0;32melse\u001b[0m\u001b[0;34m:\u001b[0m\u001b[0;34m\u001b[0m\u001b[0;34m\u001b[0m\u001b[0m\n\u001b[1;32m    633\u001b[0m             \u001b[0mv\u001b[0m \u001b[0;34m=\u001b[0m \u001b[0mself\u001b[0m\u001b[0;34m.\u001b[0m\u001b[0m_sslobj\u001b[0m\u001b[0;34m.\u001b[0m\u001b[0mread\u001b[0m\u001b[0;34m(\u001b[0m\u001b[0mlen\u001b[0m\u001b[0;34m)\u001b[0m\u001b[0;34m\u001b[0m\u001b[0;34m\u001b[0m\u001b[0m\n",
            "\u001b[0;31mKeyboardInterrupt\u001b[0m: "
          ]
        },
        {
          "output_type": "stream",
          "text": [
            "time: 15.2 s\n"
          ],
          "name": "stdout"
        }
      ]
    },
    {
      "cell_type": "code",
      "metadata": {
        "id": "Y9_Qh4TH38bq",
        "outputId": "a32c569b-d8ab-445f-89d5-dd8bedc838dc",
        "colab": {
          "base_uri": "https://localhost:8080/"
        }
      },
      "source": [
        "from bing_image_downloader import downloader\n",
        "downloader.download(\"sunflower\",limit=30,output_dir='images',adult_filter_off=True)"
      ],
      "execution_count": 68,
      "outputs": [
        {
          "output_type": "stream",
          "text": [
            "\n",
            "\n",
            "[!!]Indexing page: 1\n",
            "\n",
            "[%] Indexed 13 Images on Page 1.\n",
            "\n",
            "===============================================\n",
            "\n",
            "[%] Downloading Image #1 from https://wallpapersite.com/images/wallpapers/peter-rabbit-1440x2560-animation-adventure-comedy-2018-hd-4k-11354.jpg\n",
            "[!] Issue getting: https://wallpapersite.com/images/wallpapers/peter-rabbit-1440x2560-animation-adventure-comedy-2018-hd-4k-11354.jpg\n",
            "[!] Error:: HTTP Error 404: Not Found\n",
            "[%] Downloading Image #1 from https://wallpapersite.com/images/wallpapers/winter-mountains-720x1280-lake-forest-pine-trees-hd-4831.jpg\n",
            "[!] Issue getting: https://wallpapersite.com/images/wallpapers/winter-mountains-720x1280-lake-forest-pine-trees-hd-4831.jpg\n",
            "[!] Error:: HTTP Error 404: Not Found\n",
            "[%] Downloading Image #1 from https://wallpapersite.com/images/wallpapers/peter-rabbit-1440x2560-animation-adventure-comedy-2018-5k-11913.jpg\n",
            "[!] Issue getting: https://wallpapersite.com/images/wallpapers/peter-rabbit-1440x2560-animation-adventure-comedy-2018-5k-11913.jpg\n",
            "[!] Error:: HTTP Error 404: Not Found\n",
            "[%] Downloading Image #1 from https://wallpapersite.com/images/wallpapers/mountains-480x854-lake-reflection-4k-10254.jpg\n",
            "[!] Issue getting: https://wallpapersite.com/images/wallpapers/mountains-480x854-lake-reflection-4k-10254.jpg\n",
            "[!] Error:: HTTP Error 404: Not Found\n",
            "[%] Downloading Image #1 from https://wallpapersite.com/images/wallpapers/sydney-harbour-bridge-1440x2560-sydney-australia-bridge-4k-8k-684.jpg\n",
            "[!] Issue getting: https://wallpapersite.com/images/wallpapers/sydney-harbour-bridge-1440x2560-sydney-australia-bridge-4k-8k-684.jpg\n",
            "[!] Error:: HTTP Error 404: Not Found\n",
            "[%] Downloading Image #1 from https://wallpapersite.com/images/wallpapers/farm-1440x2560-terrace-farming-agriculture-4k-8k-6814.jpg\n",
            "[!] Issue getting: https://wallpapersite.com/images/wallpapers/farm-1440x2560-terrace-farming-agriculture-4k-8k-6814.jpg\n",
            "[!] Error:: HTTP Error 404: Not Found\n",
            "[%] Downloading Image #1 from https://wallpapersite.com/images/wallpapers/happiness-720x1280-kite-playing-kid-hd-8500.jpg\n",
            "[!] Issue getting: https://wallpapersite.com/images/wallpapers/happiness-720x1280-kite-playing-kid-hd-8500.jpg\n",
            "[!] Error:: HTTP Error 404: Not Found\n",
            "[%] Downloading Image #1 from https://wallpapersite.com/images/wallpapers/black-knight-1440x2560-dark-souls-iii-291.jpg\n",
            "[!] Issue getting: https://wallpapersite.com/images/wallpapers/black-knight-1440x2560-dark-souls-iii-291.jpg\n",
            "[!] Error:: HTTP Error 404: Not Found\n",
            "[%] Downloading Image #1 from https://wallpapersite.com/images/wallpapers/blue-flowers-1440x2560-hd-4k-5520.jpg\n",
            "[!] Issue getting: https://wallpapersite.com/images/wallpapers/blue-flowers-1440x2560-hd-4k-5520.jpg\n",
            "[!] Error:: HTTP Error 404: Not Found\n",
            "[%] Downloading Image #1 from https://wallpapersite.com/images/wallpapers/spider-man-1440x2560-hd-4k-8582.jpg\n",
            "[!] Issue getting: https://wallpapersite.com/images/wallpapers/spider-man-1440x2560-hd-4k-8582.jpg\n",
            "[!] Error:: HTTP Error 404: Not Found\n",
            "[%] Downloading Image #1 from https://wallpapersite.com/images/wallpapers/doom-eternal-640x1136-gamescom-2018-2019-games-4k-15666.jpg\n",
            "[!] Issue getting: https://wallpapersite.com/images/wallpapers/doom-eternal-640x1136-gamescom-2018-2019-games-4k-15666.jpg\n",
            "[!] Error:: HTTP Error 404: Not Found\n",
            "[%] Downloading Image #1 from https://wallpapersite.com/images/wallpapers/daisy-flowers-720x1280-pink-daisies-blossom-hd-4k-3725.jpeg\n",
            "[!] Issue getting: https://wallpapersite.com/images/wallpapers/daisy-flowers-720x1280-pink-daisies-blossom-hd-4k-3725.jpeg\n",
            "[!] Error:: HTTP Error 404: Not Found\n",
            "[%] Downloading Image #1 from https://wallpapersite.com/images/wallpapers/happiness-640x1136-kite-playing-kid-hd-8500.jpg\n",
            "[!] Issue getting: https://wallpapersite.com/images/wallpapers/happiness-640x1136-kite-playing-kid-hd-8500.jpg\n",
            "[!] Error:: HTTP Error 404: Not Found\n",
            "\n",
            "\n",
            "[!!]Indexing page: 2\n",
            "\n",
            "[%] Indexed 13 Images on Page 2.\n",
            "\n",
            "===============================================\n",
            "\n",
            "[%] Downloading Image #1 from https://wallpapersite.com/images/wallpapers/erawan-falls-1440x2560-waterfall-erawan-national-park-thailand-4k-5k-1766.jpg\n",
            "[!] Issue getting: https://wallpapersite.com/images/wallpapers/erawan-falls-1440x2560-waterfall-erawan-national-park-thailand-4k-5k-1766.jpg\n",
            "[!] Error:: HTTP Error 404: Not Found\n",
            "[%] Downloading Image #1 from https://wallpapersite.com/images/wallpapers/counter-strike-global-offensive-1440x2560-guardians-4k-7740.jpg\n",
            "[!] Issue getting: https://wallpapersite.com/images/wallpapers/counter-strike-global-offensive-1440x2560-guardians-4k-7740.jpg\n",
            "[!] Error:: HTTP Error 404: Not Found\n",
            "[%] Downloading Image #1 from https://wallpapersite.com/images/wallpapers/jupiter-1440x2560-southern-hemisphere-juno-spacecraft-nasa-4k-11335.jpg\n",
            "[!] Issue getting: https://wallpapersite.com/images/wallpapers/jupiter-1440x2560-southern-hemisphere-juno-spacecraft-nasa-4k-11335.jpg\n",
            "[!] Error:: HTTP Error 404: Not Found\n",
            "[%] Downloading Image #1 from https://wallpapersite.com/images/wallpapers/destiny-2-360x640-limited-edition-ps4-pro-hd-8327.jpg\n",
            "[!] Issue getting: https://wallpapersite.com/images/wallpapers/destiny-2-360x640-limited-edition-ps4-pro-hd-8327.jpg\n",
            "[!] Error:: HTTP Error 404: Not Found\n",
            "[%] Downloading Image #1 from https://wallpapersite.com/images/wallpapers/mont-blanc-640x960-autumn-lake-white-mountain-alps-hd-5k-1723.jpg\n",
            "[!] Issue getting: https://wallpapersite.com/images/wallpapers/mont-blanc-640x960-autumn-lake-white-mountain-alps-hd-5k-1723.jpg\n",
            "[!] Error:: HTTP Error 404: Not Found\n",
            "[%] Downloading Image #1 from https://wallpapersite.com/images/wallpapers/earth-1440x2560-horizon-4k-6520.jpg\n",
            "[!] Issue getting: https://wallpapersite.com/images/wallpapers/earth-1440x2560-horizon-4k-6520.jpg\n",
            "[!] Error:: HTTP Error 404: Not Found\n",
            "[%] Downloading Image #1 from https://wallpapersite.com/images/wallpapers/digital-flowers-720x1280-4k-4315.jpg\n",
            "[!] Issue getting: https://wallpapersite.com/images/wallpapers/digital-flowers-720x1280-4k-4315.jpg\n",
            "[!] Error:: HTTP Error 404: Not Found\n",
            "[%] Downloading Image #1 from https://wallpapersite.com/images/wallpapers/tropical-beach-2560x1440-boats-island-coconut-trees-4k-5203.jpg\n",
            "[!] Issue getting: https://wallpapersite.com/images/wallpapers/tropical-beach-2560x1440-boats-island-coconut-trees-4k-5203.jpg\n",
            "[!] Error:: HTTP Error 404: Not Found\n",
            "[%] Downloading Image #1 from https://wallpapersite.com/images/wallpapers/sunset-1440x2560-violet-beach-coast-4k-5449.jpg\n",
            "[!] Issue getting: https://wallpapersite.com/images/wallpapers/sunset-1440x2560-violet-beach-coast-4k-5449.jpg\n",
            "[!] Error:: HTTP Error 404: Not Found\n",
            "[%] Downloading Image #1 from https://wallpapersite.com/images/wallpapers/mokowanis-lake-720x1280-glacier-national-park-montana-4939.jpg\n",
            "[!] Issue getting: https://wallpapersite.com/images/wallpapers/mokowanis-lake-720x1280-glacier-national-park-montana-4939.jpg\n",
            "[!] Error:: HTTP Error 404: Not Found\n",
            "[%] Downloading Image #1 from https://wallpapersite.com/images/wallpapers/beast-boy-1440x2560-titans-dc-comics-ryan-potter-4k-15830.jpg\n",
            "[!] Issue getting: https://wallpapersite.com/images/wallpapers/beast-boy-1440x2560-titans-dc-comics-ryan-potter-4k-15830.jpg\n",
            "[!] Error:: HTTP Error 404: Not Found\n",
            "[%] Downloading Image #1 from https://wallpapersite.com/images/wallpapers/android-o-1440x2560-stock-horizon-planet-hd-9534.jpg\n",
            "[!] Issue getting: https://wallpapersite.com/images/wallpapers/android-o-1440x2560-stock-horizon-planet-hd-9534.jpg\n",
            "[!] Error:: HTTP Error 404: Not Found\n",
            "[%] Downloading Image #1 from https://wallpapersite.com/images/wallpapers/tropical-forest-1440x2560-waterfall-hd-4k-6161.jpg\n",
            "[!] Issue getting: https://wallpapersite.com/images/wallpapers/tropical-forest-1440x2560-waterfall-hd-4k-6161.jpg\n",
            "[!] Error:: HTTP Error 404: Not Found\n",
            "\n",
            "\n",
            "[!!]Indexing page: 3\n",
            "\n",
            "[%] Indexed 12 Images on Page 3.\n",
            "\n",
            "===============================================\n",
            "\n",
            "[%] Downloading Image #1 from https://wallpapersite.com/images/wallpapers/mountains-480x854-lake-reflection-4k-10254.jpg\n",
            "[!] Issue getting: https://wallpapersite.com/images/wallpapers/mountains-480x854-lake-reflection-4k-10254.jpg\n",
            "[!] Error:: HTTP Error 404: Not Found\n",
            "[%] Downloading Image #1 from https://wallpapersite.com/images/wallpapers/sydney-harbour-bridge-1440x2560-sydney-australia-bridge-4k-8k-684.jpg\n",
            "[!] Issue getting: https://wallpapersite.com/images/wallpapers/sydney-harbour-bridge-1440x2560-sydney-australia-bridge-4k-8k-684.jpg\n",
            "[!] Error:: HTTP Error 404: Not Found\n",
            "[%] Downloading Image #1 from https://wallpapersite.com/images/wallpapers/farm-1440x2560-terrace-farming-agriculture-4k-8k-6814.jpg\n",
            "[!] Issue getting: https://wallpapersite.com/images/wallpapers/farm-1440x2560-terrace-farming-agriculture-4k-8k-6814.jpg\n",
            "[!] Error:: HTTP Error 404: Not Found\n",
            "[%] Downloading Image #1 from https://wallpapersite.com/images/wallpapers/happiness-720x1280-kite-playing-kid-hd-8500.jpg\n",
            "[!] Issue getting: https://wallpapersite.com/images/wallpapers/happiness-720x1280-kite-playing-kid-hd-8500.jpg\n",
            "[!] Error:: HTTP Error 404: Not Found\n",
            "[%] Downloading Image #1 from https://wallpapersite.com/images/wallpapers/spider-man-1440x2560-hd-4k-8582.jpg\n",
            "[!] Issue getting: https://wallpapersite.com/images/wallpapers/spider-man-1440x2560-hd-4k-8582.jpg\n",
            "[!] Error:: HTTP Error 404: Not Found\n",
            "[%] Downloading Image #1 from https://wallpapersite.com/images/wallpapers/doom-eternal-640x1136-gamescom-2018-2019-games-4k-15666.jpg\n",
            "[!] Issue getting: https://wallpapersite.com/images/wallpapers/doom-eternal-640x1136-gamescom-2018-2019-games-4k-15666.jpg\n",
            "[!] Error:: HTTP Error 404: Not Found\n",
            "[%] Downloading Image #1 from https://wallpapersite.com/images/wallpapers/blue-flowers-1440x2560-hd-4k-5520.jpg\n",
            "[!] Issue getting: https://wallpapersite.com/images/wallpapers/blue-flowers-1440x2560-hd-4k-5520.jpg\n",
            "[!] Error:: HTTP Error 404: Not Found\n",
            "[%] Downloading Image #1 from https://wallpapersite.com/images/wallpapers/happiness-640x1136-kite-playing-kid-hd-8500.jpg\n",
            "[!] Issue getting: https://wallpapersite.com/images/wallpapers/happiness-640x1136-kite-playing-kid-hd-8500.jpg\n",
            "[!] Error:: HTTP Error 404: Not Found\n",
            "[%] Downloading Image #1 from https://wallpapersite.com/images/wallpapers/daisy-flowers-720x1280-pink-daisies-blossom-hd-4k-3725.jpeg\n",
            "[!] Issue getting: https://wallpapersite.com/images/wallpapers/daisy-flowers-720x1280-pink-daisies-blossom-hd-4k-3725.jpeg\n",
            "[!] Error:: HTTP Error 404: Not Found\n",
            "[%] Downloading Image #1 from https://wallpapersite.com/images/wallpapers/peter-rabbit-1440x2560-animation-adventure-comedy-2018-5k-11913.jpg\n",
            "[!] Issue getting: https://wallpapersite.com/images/wallpapers/peter-rabbit-1440x2560-animation-adventure-comedy-2018-5k-11913.jpg\n",
            "[!] Error:: HTTP Error 404: Not Found\n",
            "[%] Downloading Image #1 from https://wallpapersite.com/images/wallpapers/winter-mountains-720x1280-lake-forest-pine-trees-hd-4831.jpg\n",
            "[!] Issue getting: https://wallpapersite.com/images/wallpapers/winter-mountains-720x1280-lake-forest-pine-trees-hd-4831.jpg\n",
            "[!] Error:: HTTP Error 404: Not Found\n",
            "[%] Downloading Image #1 from https://wallpapersite.com/images/wallpapers/black-knight-1440x2560-dark-souls-iii-291.jpg\n",
            "[!] Issue getting: https://wallpapersite.com/images/wallpapers/black-knight-1440x2560-dark-souls-iii-291.jpg\n",
            "[!] Error:: HTTP Error 404: Not Found\n",
            "\n",
            "\n",
            "[!!]Indexing page: 4\n",
            "\n",
            "[%] Indexed 11 Images on Page 4.\n",
            "\n",
            "===============================================\n",
            "\n",
            "[%] Downloading Image #1 from https://wallpapersite.com/images/wallpapers/earth-1440x2560-horizon-4k-6520.jpg\n",
            "[!] Issue getting: https://wallpapersite.com/images/wallpapers/earth-1440x2560-horizon-4k-6520.jpg\n",
            "[!] Error:: HTTP Error 404: Not Found\n",
            "[%] Downloading Image #1 from https://wallpapersite.com/images/wallpapers/tropical-beach-2560x1440-boats-island-coconut-trees-4k-5203.jpg\n",
            "[!] Issue getting: https://wallpapersite.com/images/wallpapers/tropical-beach-2560x1440-boats-island-coconut-trees-4k-5203.jpg\n",
            "[!] Error:: HTTP Error 404: Not Found\n",
            "[%] Downloading Image #1 from https://wallpapersite.com/images/wallpapers/sunset-1440x2560-violet-beach-coast-4k-5449.jpg\n",
            "[!] Issue getting: https://wallpapersite.com/images/wallpapers/sunset-1440x2560-violet-beach-coast-4k-5449.jpg\n",
            "[!] Error:: HTTP Error 404: Not Found\n",
            "[%] Downloading Image #1 from https://wallpapersite.com/images/wallpapers/mokowanis-lake-720x1280-glacier-national-park-montana-4939.jpg\n",
            "[!] Issue getting: https://wallpapersite.com/images/wallpapers/mokowanis-lake-720x1280-glacier-national-park-montana-4939.jpg\n",
            "[!] Error:: HTTP Error 404: Not Found\n",
            "[%] Downloading Image #1 from https://wallpapersite.com/images/wallpapers/beast-boy-1440x2560-titans-dc-comics-ryan-potter-4k-15830.jpg\n",
            "[!] Issue getting: https://wallpapersite.com/images/wallpapers/beast-boy-1440x2560-titans-dc-comics-ryan-potter-4k-15830.jpg\n",
            "[!] Error:: HTTP Error 404: Not Found\n",
            "[%] Downloading Image #1 from https://wallpapersite.com/images/wallpapers/android-o-1440x2560-stock-horizon-planet-hd-9534.jpg\n",
            "[!] Issue getting: https://wallpapersite.com/images/wallpapers/android-o-1440x2560-stock-horizon-planet-hd-9534.jpg\n",
            "[!] Error:: HTTP Error 404: Not Found\n",
            "[%] Downloading Image #1 from https://wallpapersite.com/images/wallpapers/tropical-forest-1440x2560-waterfall-hd-4k-6161.jpg\n",
            "[!] Issue getting: https://wallpapersite.com/images/wallpapers/tropical-forest-1440x2560-waterfall-hd-4k-6161.jpg\n",
            "[!] Error:: HTTP Error 404: Not Found\n",
            "[%] Downloading Image #1 from https://wallpapersite.com/images/wallpapers/counter-strike-global-offensive-1440x2560-guardians-4k-7740.jpg\n",
            "[!] Issue getting: https://wallpapersite.com/images/wallpapers/counter-strike-global-offensive-1440x2560-guardians-4k-7740.jpg\n",
            "[!] Error:: HTTP Error 404: Not Found\n",
            "[%] Downloading Image #1 from https://wallpapersite.com/images/wallpapers/mont-blanc-640x960-autumn-lake-white-mountain-alps-hd-5k-1723.jpg\n",
            "[!] Issue getting: https://wallpapersite.com/images/wallpapers/mont-blanc-640x960-autumn-lake-white-mountain-alps-hd-5k-1723.jpg\n",
            "[!] Error:: HTTP Error 404: Not Found\n",
            "[%] Downloading Image #1 from https://wallpapersite.com/images/wallpapers/digital-flowers-720x1280-4k-4315.jpg\n",
            "[!] Issue getting: https://wallpapersite.com/images/wallpapers/digital-flowers-720x1280-4k-4315.jpg\n",
            "[!] Error:: HTTP Error 404: Not Found\n",
            "[%] Downloading Image #1 from https://wallpapersite.com/images/wallpapers/jupiter-1440x2560-southern-hemisphere-juno-spacecraft-nasa-4k-11335.jpg\n",
            "[!] Issue getting: https://wallpapersite.com/images/wallpapers/jupiter-1440x2560-southern-hemisphere-juno-spacecraft-nasa-4k-11335.jpg\n",
            "[!] Error:: HTTP Error 404: Not Found\n",
            "\n",
            "\n",
            "[!!]Indexing page: 5\n",
            "\n",
            "[%] Indexed 10 Images on Page 5.\n",
            "\n",
            "===============================================\n",
            "\n",
            "[%] Downloading Image #1 from https://wallpapersite.com/images/wallpapers/sunset-1440x2560-violet-beach-coast-4k-5449.jpg\n",
            "[!] Issue getting: https://wallpapersite.com/images/wallpapers/sunset-1440x2560-violet-beach-coast-4k-5449.jpg\n",
            "[!] Error:: HTTP Error 404: Not Found\n",
            "[%] Downloading Image #1 from https://wallpapersite.com/images/wallpapers/tropical-forest-1440x2560-waterfall-hd-4k-6161.jpg\n",
            "[!] Issue getting: https://wallpapersite.com/images/wallpapers/tropical-forest-1440x2560-waterfall-hd-4k-6161.jpg\n",
            "[!] Error:: HTTP Error 404: Not Found\n",
            "[%] Downloading Image #1 from https://wallpapersite.com/images/wallpapers/android-o-1440x2560-stock-horizon-planet-hd-9534.jpg\n",
            "[!] Issue getting: https://wallpapersite.com/images/wallpapers/android-o-1440x2560-stock-horizon-planet-hd-9534.jpg\n",
            "[!] Error:: HTTP Error 404: Not Found\n",
            "[%] Downloading Image #1 from https://wallpapersite.com/images/wallpapers/mont-blanc-640x960-autumn-lake-white-mountain-alps-hd-5k-1723.jpg\n",
            "[!] Issue getting: https://wallpapersite.com/images/wallpapers/mont-blanc-640x960-autumn-lake-white-mountain-alps-hd-5k-1723.jpg\n",
            "[!] Error:: HTTP Error 404: Not Found\n",
            "[%] Downloading Image #1 from https://wallpapersite.com/images/wallpapers/counter-strike-global-offensive-1440x2560-guardians-4k-7740.jpg\n",
            "[!] Issue getting: https://wallpapersite.com/images/wallpapers/counter-strike-global-offensive-1440x2560-guardians-4k-7740.jpg\n",
            "[!] Error:: HTTP Error 404: Not Found\n",
            "[%] Downloading Image #1 from https://wallpapersite.com/images/wallpapers/jupiter-1440x2560-southern-hemisphere-juno-spacecraft-nasa-4k-11335.jpg\n",
            "[!] Issue getting: https://wallpapersite.com/images/wallpapers/jupiter-1440x2560-southern-hemisphere-juno-spacecraft-nasa-4k-11335.jpg\n",
            "[!] Error:: HTTP Error 404: Not Found\n",
            "[%] Downloading Image #1 from https://wallpapersite.com/images/wallpapers/digital-flowers-720x1280-4k-4315.jpg\n",
            "[!] Issue getting: https://wallpapersite.com/images/wallpapers/digital-flowers-720x1280-4k-4315.jpg\n",
            "[!] Error:: HTTP Error 404: Not Found\n",
            "[%] Downloading Image #1 from https://wallpapersite.com/images/wallpapers/mokowanis-lake-720x1280-glacier-national-park-montana-4939.jpg\n",
            "[!] Issue getting: https://wallpapersite.com/images/wallpapers/mokowanis-lake-720x1280-glacier-national-park-montana-4939.jpg\n",
            "[!] Error:: HTTP Error 404: Not Found\n",
            "[%] Downloading Image #1 from https://wallpapersite.com/images/wallpapers/tropical-beach-2560x1440-boats-island-coconut-trees-4k-5203.jpg\n",
            "[!] Issue getting: https://wallpapersite.com/images/wallpapers/tropical-beach-2560x1440-boats-island-coconut-trees-4k-5203.jpg\n",
            "[!] Error:: HTTP Error 404: Not Found\n",
            "[%] Downloading Image #1 from https://wallpapersite.com/images/wallpapers/beast-boy-1440x2560-titans-dc-comics-ryan-potter-4k-15830.jpg\n",
            "[!] Issue getting: https://wallpapersite.com/images/wallpapers/beast-boy-1440x2560-titans-dc-comics-ryan-potter-4k-15830.jpg\n",
            "[!] Error:: HTTP Error 404: Not Found\n",
            "\n",
            "\n",
            "[!!]Indexing page: 6\n",
            "\n",
            "[%] Indexed 9 Images on Page 6.\n",
            "\n",
            "===============================================\n",
            "\n",
            "[%] Downloading Image #1 from https://wallpapersite.com/images/wallpapers/android-o-1440x2560-stock-horizon-planet-hd-9534.jpg\n",
            "[!] Issue getting: https://wallpapersite.com/images/wallpapers/android-o-1440x2560-stock-horizon-planet-hd-9534.jpg\n",
            "[!] Error:: HTTP Error 404: Not Found\n",
            "[%] Downloading Image #1 from https://wallpapersite.com/images/wallpapers/counter-strike-global-offensive-1440x2560-guardians-4k-7740.jpg\n",
            "[!] Issue getting: https://wallpapersite.com/images/wallpapers/counter-strike-global-offensive-1440x2560-guardians-4k-7740.jpg\n",
            "[!] Error:: HTTP Error 404: Not Found\n",
            "[%] Downloading Image #1 from https://wallpapersite.com/images/wallpapers/mont-blanc-640x960-autumn-lake-white-mountain-alps-hd-5k-1723.jpg\n",
            "[!] Issue getting: https://wallpapersite.com/images/wallpapers/mont-blanc-640x960-autumn-lake-white-mountain-alps-hd-5k-1723.jpg\n",
            "[!] Error:: HTTP Error 404: Not Found\n",
            "[%] Downloading Image #1 from https://wallpapersite.com/images/wallpapers/digital-flowers-720x1280-4k-4315.jpg\n",
            "[!] Issue getting: https://wallpapersite.com/images/wallpapers/digital-flowers-720x1280-4k-4315.jpg\n",
            "[!] Error:: HTTP Error 404: Not Found\n",
            "[%] Downloading Image #1 from https://wallpapersite.com/images/wallpapers/jupiter-1440x2560-southern-hemisphere-juno-spacecraft-nasa-4k-11335.jpg\n",
            "[!] Issue getting: https://wallpapersite.com/images/wallpapers/jupiter-1440x2560-southern-hemisphere-juno-spacecraft-nasa-4k-11335.jpg\n",
            "[!] Error:: HTTP Error 404: Not Found\n",
            "[%] Downloading Image #1 from https://wallpapersite.com/images/wallpapers/mokowanis-lake-720x1280-glacier-national-park-montana-4939.jpg\n",
            "[!] Issue getting: https://wallpapersite.com/images/wallpapers/mokowanis-lake-720x1280-glacier-national-park-montana-4939.jpg\n",
            "[!] Error:: HTTP Error 404: Not Found\n",
            "[%] Downloading Image #1 from https://wallpapersite.com/images/wallpapers/tropical-beach-2560x1440-boats-island-coconut-trees-4k-5203.jpg\n",
            "[!] Issue getting: https://wallpapersite.com/images/wallpapers/tropical-beach-2560x1440-boats-island-coconut-trees-4k-5203.jpg\n",
            "[!] Error:: HTTP Error 404: Not Found\n",
            "[%] Downloading Image #1 from https://wallpapersite.com/images/wallpapers/tropical-forest-1440x2560-waterfall-hd-4k-6161.jpg\n",
            "[!] Issue getting: https://wallpapersite.com/images/wallpapers/tropical-forest-1440x2560-waterfall-hd-4k-6161.jpg\n",
            "[!] Error:: HTTP Error 404: Not Found\n",
            "[%] Downloading Image #1 from https://wallpapersite.com/images/wallpapers/beast-boy-1440x2560-titans-dc-comics-ryan-potter-4k-15830.jpg\n",
            "[!] Issue getting: https://wallpapersite.com/images/wallpapers/beast-boy-1440x2560-titans-dc-comics-ryan-potter-4k-15830.jpg\n",
            "[!] Error:: HTTP Error 404: Not Found\n",
            "\n",
            "\n",
            "[!!]Indexing page: 7\n",
            "\n",
            "[%] Indexed 8 Images on Page 7.\n",
            "\n",
            "===============================================\n",
            "\n",
            "[%] Downloading Image #1 from https://wallpapersite.com/images/wallpapers/counter-strike-global-offensive-1440x2560-guardians-4k-7740.jpg\n",
            "[!] Issue getting: https://wallpapersite.com/images/wallpapers/counter-strike-global-offensive-1440x2560-guardians-4k-7740.jpg\n",
            "[!] Error:: HTTP Error 404: Not Found\n",
            "[%] Downloading Image #1 from https://wallpapersite.com/images/wallpapers/tropical-beach-2560x1440-boats-island-coconut-trees-4k-5203.jpg\n",
            "[!] Issue getting: https://wallpapersite.com/images/wallpapers/tropical-beach-2560x1440-boats-island-coconut-trees-4k-5203.jpg\n",
            "[!] Error:: HTTP Error 404: Not Found\n",
            "[%] Downloading Image #1 from https://wallpapersite.com/images/wallpapers/digital-flowers-720x1280-4k-4315.jpg\n",
            "[!] Issue getting: https://wallpapersite.com/images/wallpapers/digital-flowers-720x1280-4k-4315.jpg\n",
            "[!] Error:: HTTP Error 404: Not Found\n",
            "[%] Downloading Image #1 from https://wallpapersite.com/images/wallpapers/beast-boy-1440x2560-titans-dc-comics-ryan-potter-4k-15830.jpg\n",
            "[!] Issue getting: https://wallpapersite.com/images/wallpapers/beast-boy-1440x2560-titans-dc-comics-ryan-potter-4k-15830.jpg\n",
            "[!] Error:: HTTP Error 404: Not Found\n",
            "[%] Downloading Image #1 from https://wallpapersite.com/images/wallpapers/mokowanis-lake-720x1280-glacier-national-park-montana-4939.jpg\n",
            "[!] Issue getting: https://wallpapersite.com/images/wallpapers/mokowanis-lake-720x1280-glacier-national-park-montana-4939.jpg\n",
            "[!] Error:: HTTP Error 404: Not Found\n",
            "[%] Downloading Image #1 from https://wallpapersite.com/images/wallpapers/tropical-forest-1440x2560-waterfall-hd-4k-6161.jpg\n",
            "[!] Issue getting: https://wallpapersite.com/images/wallpapers/tropical-forest-1440x2560-waterfall-hd-4k-6161.jpg\n",
            "[!] Error:: HTTP Error 404: Not Found\n",
            "[%] Downloading Image #1 from https://wallpapersite.com/images/wallpapers/mont-blanc-640x960-autumn-lake-white-mountain-alps-hd-5k-1723.jpg\n",
            "[!] Issue getting: https://wallpapersite.com/images/wallpapers/mont-blanc-640x960-autumn-lake-white-mountain-alps-hd-5k-1723.jpg\n",
            "[!] Error:: HTTP Error 404: Not Found\n",
            "[%] Downloading Image #1 from https://wallpapersite.com/images/wallpapers/jupiter-1440x2560-southern-hemisphere-juno-spacecraft-nasa-4k-11335.jpg\n",
            "[!] Issue getting: https://wallpapersite.com/images/wallpapers/jupiter-1440x2560-southern-hemisphere-juno-spacecraft-nasa-4k-11335.jpg\n",
            "[!] Error:: HTTP Error 404: Not Found\n",
            "\n",
            "\n",
            "[!!]Indexing page: 8\n",
            "\n",
            "[%] Indexed 7 Images on Page 8.\n",
            "\n",
            "===============================================\n",
            "\n",
            "[%] Downloading Image #1 from https://wallpapersite.com/images/wallpapers/sydney-harbour-bridge-1440x2560-sydney-australia-bridge-4k-8k-684.jpg\n",
            "[!] Issue getting: https://wallpapersite.com/images/wallpapers/sydney-harbour-bridge-1440x2560-sydney-australia-bridge-4k-8k-684.jpg\n",
            "[!] Error:: HTTP Error 404: Not Found\n",
            "[%] Downloading Image #1 from https://wallpapersite.com/images/wallpapers/farm-1440x2560-terrace-farming-agriculture-4k-8k-6814.jpg\n",
            "[!] Issue getting: https://wallpapersite.com/images/wallpapers/farm-1440x2560-terrace-farming-agriculture-4k-8k-6814.jpg\n",
            "[!] Error:: HTTP Error 404: Not Found\n",
            "[%] Downloading Image #1 from https://wallpapersite.com/images/wallpapers/spider-man-1440x2560-hd-4k-8582.jpg\n",
            "[!] Issue getting: https://wallpapersite.com/images/wallpapers/spider-man-1440x2560-hd-4k-8582.jpg\n",
            "[!] Error:: HTTP Error 404: Not Found\n",
            "[%] Downloading Image #1 from https://wallpapersite.com/images/wallpapers/doom-eternal-640x1136-gamescom-2018-2019-games-4k-15666.jpg\n",
            "[!] Issue getting: https://wallpapersite.com/images/wallpapers/doom-eternal-640x1136-gamescom-2018-2019-games-4k-15666.jpg\n",
            "[!] Error:: HTTP Error 404: Not Found\n",
            "[%] Downloading Image #1 from https://wallpapersite.com/images/wallpapers/happiness-640x1136-kite-playing-kid-hd-8500.jpg\n",
            "[!] Issue getting: https://wallpapersite.com/images/wallpapers/happiness-640x1136-kite-playing-kid-hd-8500.jpg\n",
            "[!] Error:: HTTP Error 404: Not Found\n",
            "[%] Downloading Image #1 from https://wallpapersite.com/images/wallpapers/black-knight-1440x2560-dark-souls-iii-291.jpg\n",
            "[!] Issue getting: https://wallpapersite.com/images/wallpapers/black-knight-1440x2560-dark-souls-iii-291.jpg\n",
            "[!] Error:: HTTP Error 404: Not Found\n",
            "[%] Downloading Image #1 from https://wallpapersite.com/images/wallpapers/peter-rabbit-1440x2560-animation-adventure-comedy-2018-5k-11913.jpg\n",
            "[!] Issue getting: https://wallpapersite.com/images/wallpapers/peter-rabbit-1440x2560-animation-adventure-comedy-2018-5k-11913.jpg\n",
            "[!] Error:: HTTP Error 404: Not Found\n",
            "\n",
            "\n",
            "[!!]Indexing page: 9\n",
            "\n",
            "[%] Indexed 6 Images on Page 9.\n",
            "\n",
            "===============================================\n",
            "\n",
            "[%] Downloading Image #1 from https://wallpapersite.com/images/wallpapers/mokowanis-lake-720x1280-glacier-national-park-montana-4939.jpg\n",
            "[!] Issue getting: https://wallpapersite.com/images/wallpapers/mokowanis-lake-720x1280-glacier-national-park-montana-4939.jpg\n",
            "[!] Error:: HTTP Error 404: Not Found\n",
            "[%] Downloading Image #1 from https://wallpapersite.com/images/wallpapers/tropical-forest-1440x2560-waterfall-hd-4k-6161.jpg\n",
            "[!] Issue getting: https://wallpapersite.com/images/wallpapers/tropical-forest-1440x2560-waterfall-hd-4k-6161.jpg\n",
            "[!] Error:: HTTP Error 404: Not Found\n",
            "[%] Downloading Image #1 from https://wallpapersite.com/images/wallpapers/mont-blanc-640x960-autumn-lake-white-mountain-alps-hd-5k-1723.jpg\n",
            "[!] Issue getting: https://wallpapersite.com/images/wallpapers/mont-blanc-640x960-autumn-lake-white-mountain-alps-hd-5k-1723.jpg\n",
            "[!] Error:: HTTP Error 404: Not Found\n",
            "[%] Downloading Image #1 from https://wallpapersite.com/images/wallpapers/jupiter-1440x2560-southern-hemisphere-juno-spacecraft-nasa-4k-11335.jpg\n",
            "[!] Issue getting: https://wallpapersite.com/images/wallpapers/jupiter-1440x2560-southern-hemisphere-juno-spacecraft-nasa-4k-11335.jpg\n",
            "[!] Error:: HTTP Error 404: Not Found\n",
            "[%] Downloading Image #1 from https://wallpapersite.com/images/wallpapers/tropical-beach-2560x1440-boats-island-coconut-trees-4k-5203.jpg\n",
            "[!] Issue getting: https://wallpapersite.com/images/wallpapers/tropical-beach-2560x1440-boats-island-coconut-trees-4k-5203.jpg\n",
            "[!] Error:: HTTP Error 404: Not Found\n",
            "[%] Downloading Image #1 from https://wallpapersite.com/images/wallpapers/beast-boy-1440x2560-titans-dc-comics-ryan-potter-4k-15830.jpg\n",
            "[!] Issue getting: https://wallpapersite.com/images/wallpapers/beast-boy-1440x2560-titans-dc-comics-ryan-potter-4k-15830.jpg\n",
            "[!] Error:: HTTP Error 404: Not Found\n",
            "\n",
            "\n",
            "[!!]Indexing page: 10\n",
            "\n",
            "[%] Indexed 5 Images on Page 10.\n",
            "\n",
            "===============================================\n",
            "\n",
            "[%] Downloading Image #1 from https://wallpapersite.com/images/wallpapers/tropical-forest-1440x2560-waterfall-hd-4k-6161.jpg\n",
            "[!] Issue getting: https://wallpapersite.com/images/wallpapers/tropical-forest-1440x2560-waterfall-hd-4k-6161.jpg\n",
            "[!] Error:: HTTP Error 404: Not Found\n",
            "[%] Downloading Image #1 from https://wallpapersite.com/images/wallpapers/mont-blanc-640x960-autumn-lake-white-mountain-alps-hd-5k-1723.jpg\n",
            "[!] Issue getting: https://wallpapersite.com/images/wallpapers/mont-blanc-640x960-autumn-lake-white-mountain-alps-hd-5k-1723.jpg\n",
            "[!] Error:: HTTP Error 404: Not Found\n",
            "[%] Downloading Image #1 from https://wallpapersite.com/images/wallpapers/jupiter-1440x2560-southern-hemisphere-juno-spacecraft-nasa-4k-11335.jpg\n",
            "[!] Issue getting: https://wallpapersite.com/images/wallpapers/jupiter-1440x2560-southern-hemisphere-juno-spacecraft-nasa-4k-11335.jpg\n",
            "[!] Error:: HTTP Error 404: Not Found\n",
            "[%] Downloading Image #1 from https://wallpapersite.com/images/wallpapers/tropical-beach-2560x1440-boats-island-coconut-trees-4k-5203.jpg\n",
            "[!] Issue getting: https://wallpapersite.com/images/wallpapers/tropical-beach-2560x1440-boats-island-coconut-trees-4k-5203.jpg\n",
            "[!] Error:: HTTP Error 404: Not Found\n",
            "[%] Downloading Image #1 from https://wallpapersite.com/images/wallpapers/beast-boy-1440x2560-titans-dc-comics-ryan-potter-4k-15830.jpg\n",
            "[!] Issue getting: https://wallpapersite.com/images/wallpapers/beast-boy-1440x2560-titans-dc-comics-ryan-potter-4k-15830.jpg\n",
            "[!] Error:: HTTP Error 404: Not Found\n",
            "\n",
            "\n",
            "[!!]Indexing page: 11\n",
            "\n",
            "[%] Indexed 4 Images on Page 11.\n",
            "\n",
            "===============================================\n",
            "\n",
            "[%] Downloading Image #1 from https://wallpapersite.com/images/wallpapers/mont-blanc-640x960-autumn-lake-white-mountain-alps-hd-5k-1723.jpg\n",
            "[!] Issue getting: https://wallpapersite.com/images/wallpapers/mont-blanc-640x960-autumn-lake-white-mountain-alps-hd-5k-1723.jpg\n",
            "[!] Error:: HTTP Error 404: Not Found\n",
            "[%] Downloading Image #1 from https://wallpapersite.com/images/wallpapers/jupiter-1440x2560-southern-hemisphere-juno-spacecraft-nasa-4k-11335.jpg\n",
            "[!] Issue getting: https://wallpapersite.com/images/wallpapers/jupiter-1440x2560-southern-hemisphere-juno-spacecraft-nasa-4k-11335.jpg\n",
            "[!] Error:: HTTP Error 404: Not Found\n",
            "[%] Downloading Image #1 from https://wallpapersite.com/images/wallpapers/tropical-beach-2560x1440-boats-island-coconut-trees-4k-5203.jpg\n",
            "[!] Issue getting: https://wallpapersite.com/images/wallpapers/tropical-beach-2560x1440-boats-island-coconut-trees-4k-5203.jpg\n",
            "[!] Error:: HTTP Error 404: Not Found\n",
            "[%] Downloading Image #1 from https://wallpapersite.com/images/wallpapers/beast-boy-1440x2560-titans-dc-comics-ryan-potter-4k-15830.jpg\n",
            "[!] Issue getting: https://wallpapersite.com/images/wallpapers/beast-boy-1440x2560-titans-dc-comics-ryan-potter-4k-15830.jpg\n",
            "[!] Error:: HTTP Error 404: Not Found\n",
            "\n",
            "\n",
            "[!!]Indexing page: 12\n",
            "\n",
            "[%] Indexed 3 Images on Page 12.\n",
            "\n",
            "===============================================\n",
            "\n",
            "[%] Downloading Image #1 from https://wallpapersite.com/images/wallpapers/jupiter-1440x2560-southern-hemisphere-juno-spacecraft-nasa-4k-11335.jpg\n",
            "[!] Issue getting: https://wallpapersite.com/images/wallpapers/jupiter-1440x2560-southern-hemisphere-juno-spacecraft-nasa-4k-11335.jpg\n",
            "[!] Error:: HTTP Error 404: Not Found\n",
            "[%] Downloading Image #1 from https://wallpapersite.com/images/wallpapers/tropical-beach-2560x1440-boats-island-coconut-trees-4k-5203.jpg\n",
            "[!] Issue getting: https://wallpapersite.com/images/wallpapers/tropical-beach-2560x1440-boats-island-coconut-trees-4k-5203.jpg\n",
            "[!] Error:: HTTP Error 404: Not Found\n",
            "[%] Downloading Image #1 from https://wallpapersite.com/images/wallpapers/beast-boy-1440x2560-titans-dc-comics-ryan-potter-4k-15830.jpg\n",
            "[!] Issue getting: https://wallpapersite.com/images/wallpapers/beast-boy-1440x2560-titans-dc-comics-ryan-potter-4k-15830.jpg\n",
            "[!] Error:: HTTP Error 404: Not Found\n",
            "\n",
            "\n",
            "[!!]Indexing page: 13\n",
            "\n",
            "[%] Indexed 30 Images on Page 13.\n",
            "\n",
            "===============================================\n",
            "\n",
            "[%] Downloading Image #1 from https://chilliwacksunflowerfest.com/wp-content/uploads/2018/08/IMG_8538.jpg\n",
            "[%] File Downloaded !\n",
            "\n",
            "[%] Downloading Image #2 from https://www.dayliliesinaustralia.com.au/wp-content/uploads/2019/04/Sunflower.jpg\n",
            "[%] File Downloaded !\n",
            "\n",
            "[%] Downloading Image #3 from https://www.agricol.co.za/wp-content/gallery/sunflower/AGSUN_01-min1.jpeg\n",
            "[%] File Downloaded !\n",
            "\n",
            "[%] Downloading Image #4 from http://cdn.shopify.com/s/files/1/0034/1917/7060/products/Sunflower-Sunspot-Flower-Annual-Mckenzie-Seeds_800x.jpg?v=1545082339\n",
            "[%] File Downloaded !\n",
            "\n",
            "[%] Downloading Image #5 from https://www.mrfothergills.com.au/media/catalog/product/cache/1/thumbnail/1080x1400/17f82f742ffe127f42dca9de82fb58b1/5/0/5058_sunflower_giant_russian_single_2_.jpg\n",
            "[%] File Downloaded !\n",
            "\n",
            "[%] Downloading Image #6 from http://wallsdesk.com/wp-content/uploads/2017/01/Sunflower-HD-Desktop.jpg\n",
            "[%] File Downloaded !\n",
            "\n",
            "[%] Downloading Image #7 from https://2.bp.blogspot.com/-6OxsNLWvI3Y/UOW1FCVgfRI/AAAAAAAAcgA/VYGxuIsD0Ic/s1600/Sunflower+21.jpg\n",
            "[%] File Downloaded !\n",
            "\n",
            "[%] Downloading Image #8 from https://nurserynature.com/1362-large_default/sunflower-plant-seasonal-winter-flower.jpg\n",
            "[%] File Downloaded !\n",
            "\n",
            "[%] Downloading Image #9 from https://granville.ces.ncsu.edu/wp-content/uploads/2012/07/sunflower.jpg\n",
            "[%] File Downloaded !\n",
            "\n",
            "[%] Downloading Image #10 from https://stevetabone.files.wordpress.com/2012/09/single-sunflower.jpg?w=1024\n",
            "[%] File Downloaded !\n",
            "\n",
            "[%] Downloading Image #11 from http://4.bp.blogspot.com/-NB_KmZdxrUA/Tp1NGCQ1U6I/AAAAAAAADPY/FnvLVYuEgdU/s1600/sunflower.jpg\n",
            "[%] File Downloaded !\n",
            "\n",
            "[%] Downloading Image #12 from https://www.swallowtailgardenseeds.com/flowers/sunflowers/sunflower-procut-horizon.jpg\n",
            "[%] File Downloaded !\n",
            "\n",
            "[%] Downloading Image #13 from https://softsolder.files.wordpress.com/2015/09/img_5701-sunflower-with-bumblebee-detail.jpg\n",
            "[%] File Downloaded !\n",
            "\n",
            "[%] Downloading Image #14 from https://cosmosmagazine.com/wp-content/uploads/2020/03/191104-Sunflower-full-1440x810.jpg\n",
            "[%] File Downloaded !\n",
            "\n",
            "[%] Downloading Image #15 from https://prairiecalifornian.com/wp-content/uploads/2014/09/Sunflower-Photo-1.jpg\n",
            "[%] File Downloaded !\n",
            "\n",
            "[%] Downloading Image #16 from https://post.healthline.com/wp-content/uploads/2020/03/sunflower-field-flowers-1200x628-facebook-1200x628.jpg\n",
            "[%] File Downloaded !\n",
            "\n",
            "[%] Downloading Image #17 from https://www.gardeningknowhow.com/wp-content/uploads/2007/08/annual-sunflower.jpg\n",
            "[%] File Downloaded !\n",
            "\n",
            "[%] Downloading Image #18 from https://cdn.shopify.com/s/files/1/2538/7580/products/Flower_Sunflower_Sault_MI_-9707_1200x1200.jpg?v=1536227012\n",
            "[%] File Downloaded !\n",
            "\n",
            "[%] Downloading Image #19 from https://www.fs.fed.us/wildflowers/plant-of-the-week/images/ashysunflower/Helianthus_mollis_8B_lg.jpg\n",
            "[%] File Downloaded !\n",
            "\n",
            "[%] Downloading Image #20 from https://gardentabs.com/wp-content/uploads/2020/06/Beautiful-sunflower-field-in-the-summer.jpg\n",
            "[%] File Downloaded !\n",
            "\n",
            "[%] Downloading Image #21 from https://www.swallowtailgardenseeds.com/blog/images/sunny-smile-sunflower.jpg\n",
            "[%] File Downloaded !\n",
            "\n",
            "[%] Downloading Image #22 from https://3.bp.blogspot.com/-NfGqWgUsszY/UOW1DltDqYI/AAAAAAAAcf4/cKWzeMXxNBQ/s1600/Sunflower+20.jpg\n",
            "[%] File Downloaded !\n",
            "\n",
            "[%] Downloading Image #23 from https://www.wintersexpress.com/files/2019/08/IMG_4605.sunflower.jpg\n",
            "[%] File Downloaded !\n",
            "\n",
            "[%] Downloading Image #24 from https://3c1703fe8d.site.internapcdn.net/newman/gfx/news/hires/2016/1-howsunflower.jpg\n",
            "[%] File Downloaded !\n",
            "\n",
            "[%] Downloading Image #25 from https://img.thrfun.com/img/084/482/sunflower_information_and_photos_l1.jpg\n",
            "[%] File Downloaded !\n",
            "\n",
            "[%] Downloading Image #26 from http://lovelaughterandliteracy.com/wp-content/uploads/2016/10/sunflower-9-1024x683.jpg\n",
            "[%] File Downloaded !\n",
            "\n",
            "[%] Downloading Image #27 from http://2.bp.blogspot.com/-dOipS8mrjnI/UHpwLFDYFjI/AAAAAAAACrU/vtmb3OfbLlI/s1600/sunflower-wallpaper.jpg\n",
            "[%] File Downloaded !\n",
            "\n",
            "[%] Downloading Image #28 from https://tjsgardendotcom1.files.wordpress.com/2012/06/lemon-queen-variety-sunflower.jpg?w=840&amp;h=560\n",
            "[%] File Downloaded !\n",
            "\n",
            "[%] Downloading Image #29 from https://www.muralswallpaper.co.uk/app/uploads/sunflower-sunrise-photographic-floral-wallpaper-mural-Plain.jpg\n",
            "[%] File Downloaded !\n",
            "\n",
            "[%] Downloading Image #30 from https://nature.mdc.mo.gov/sites/default/files/media/images/2010/04/common_sunflower.jpg\n",
            "[%] File Downloaded !\n",
            "\n",
            "time: 33.8 s\n"
          ],
          "name": "stdout"
        }
      ]
    },
    {
      "cell_type": "code",
      "metadata": {
        "id": "q3Nbcqy4Icqy",
        "outputId": "2a6a2bc3-4fc9-44fe-e96c-7987b82bb3fd",
        "colab": {
          "base_uri": "https://localhost:8080/"
        }
      },
      "source": [
        "import numpy as np\n",
        "a=np.array([1,2,3,4,5])\n",
        "a"
      ],
      "execution_count": null,
      "outputs": [
        {
          "output_type": "execute_result",
          "data": {
            "text/plain": [
              "array([1, 2, 3, 4, 5])"
            ]
          },
          "metadata": {
            "tags": []
          },
          "execution_count": 8
        },
        {
          "output_type": "stream",
          "text": [
            "time: 10.7 ms\n"
          ],
          "name": "stdout"
        }
      ]
    },
    {
      "cell_type": "code",
      "metadata": {
        "id": "4uPNngyoF1mF",
        "outputId": "ff664923-c986-4eb3-81d9-d4b431866125",
        "colab": {
          "base_uri": "https://localhost:8080/"
        }
      },
      "source": [
        "#PreProcessing\n",
        "import os\n",
        "import matplotlib.pyplot as plt\n",
        "import numpy as np\n",
        "from skimage.io import imread\n",
        "from skimage.transform import resize\n",
        "target = []\n",
        "images=[]\n",
        "flat_data =[]\n",
        "DATADIR = '/content/images'\n",
        "CATEGORIES=['dog','laptop','sunflower']\n",
        "for category in CATEGORIES:\n",
        "      class_num=CATEGORIES.index(category)#LabelEncoding values\n",
        "      path = os.path.join(DATADIR,category)#Path to store all images\n",
        "      for img in os.listdir(path):\n",
        "       img_array = imread(os.path.join(path,img))\n",
        "       img_resized = resize(img_array,(150,150,3))  # 0-255 will be normalized 0-1\n",
        "       flat_data.append(img_resized.flatten())\n",
        "       images.append(img_resized)\n",
        "       target.append(class_num)\n",
        "      \n",
        "flat_data=np.array(flat_data)\n",
        "target=np.array(target)\n",
        "images=np.array(images)\n",
        "\n"
      ],
      "execution_count": 126,
      "outputs": [
        {
          "output_type": "stream",
          "text": [
            "time: 59.5 s\n"
          ],
          "name": "stdout"
        }
      ]
    },
    {
      "cell_type": "code",
      "metadata": {
        "id": "YPsGEUxWJwZ6",
        "outputId": "635d9d55-1f98-4661-da10-aeff120952d4",
        "colab": {
          "base_uri": "https://localhost:8080/"
        }
      },
      "source": [
        "flat_data[0]"
      ],
      "execution_count": 127,
      "outputs": [
        {
          "output_type": "execute_result",
          "data": {
            "text/plain": [
              "array([0.1372549 , 0.09803922, 0.08616993, ..., 0.04324183, 0.0471634 ,\n",
              "       0.05511111])"
            ]
          },
          "metadata": {
            "tags": []
          },
          "execution_count": 127
        },
        {
          "output_type": "stream",
          "text": [
            "time: 3.31 ms\n"
          ],
          "name": "stdout"
        }
      ]
    },
    {
      "cell_type": "code",
      "metadata": {
        "id": "qUQq-V5COIIG",
        "outputId": "4a70aad7-5735-4cd5-e4db-b0eca7b92958",
        "colab": {
          "base_uri": "https://localhost:8080/"
        }
      },
      "source": [
        "target"
      ],
      "execution_count": 128,
      "outputs": [
        {
          "output_type": "execute_result",
          "data": {
            "text/plain": [
              "array([0, 0, 0, 0, 0, 0, 0, 0, 0, 0, 0, 0, 0, 0, 0, 0, 0, 0, 0, 0, 0, 0,\n",
              "       0, 0, 0, 0, 0, 0, 0, 0, 1, 1, 1, 1, 1, 1, 1, 1, 1, 1, 1, 1, 1, 1,\n",
              "       1, 1, 1, 1, 1, 1, 1, 1, 1, 1, 1, 1, 1, 1, 1, 1, 2, 2, 2, 2, 2, 2,\n",
              "       2, 2, 2, 2, 2, 2, 2, 2, 2, 2, 2, 2, 2, 2, 2, 2, 2, 2, 2, 2, 2, 2,\n",
              "       2, 2])"
            ]
          },
          "metadata": {
            "tags": []
          },
          "execution_count": 128
        },
        {
          "output_type": "stream",
          "text": [
            "time: 3.55 ms\n"
          ],
          "name": "stdout"
        }
      ]
    },
    {
      "cell_type": "code",
      "metadata": {
        "id": "nAdEariVOO_K",
        "outputId": "2e5adc75-5af1-4a86-c6c9-416bab8f732a",
        "colab": {
          "base_uri": "https://localhost:8080/",
          "height": 298
        }
      },
      "source": [
        "unique,count=np.unique(target,return_counts=True)\n",
        "plt.bar(CATEGORIES,count)"
      ],
      "execution_count": 129,
      "outputs": [
        {
          "output_type": "execute_result",
          "data": {
            "text/plain": [
              "<BarContainer object of 3 artists>"
            ]
          },
          "metadata": {
            "tags": []
          },
          "execution_count": 129
        },
        {
          "output_type": "display_data",
          "data": {
            "image/png": "[encoded data removed]",
            "text/plain": [
              "<Figure size 432x288 with 1 Axes>"
            ]
          },
          "metadata": {
            "tags": [],
            "needs_background": "light"
          }
        },
        {
          "output_type": "stream",
          "text": [
            "time: 128 ms\n"
          ],
          "name": "stdout"
        }
      ]
    },
    {
      "cell_type": "code",
      "metadata": {
        "id": "mfrybPIMqK63",
        "outputId": "ecd0d3fa-cf7a-42f9-bbce-0b753b097a9f",
        "colab": {
          "base_uri": "https://localhost:8080/"
        }
      },
      "source": [
        "from sklearn.model_selection import train_test_split\n",
        "x_train,x_test,y_train,y_test = train_test_split(flat_data,target,test_size=0.7,random_state=109)"
      ],
      "execution_count": 130,
      "outputs": [
        {
          "output_type": "stream",
          "text": [
            "time: 27.8 ms\n"
          ],
          "name": "stdout"
        }
      ]
    },
    {
      "cell_type": "code",
      "metadata": {
        "id": "RzCZi4mdtPVQ",
        "outputId": "a6375d3e-f06f-4d72-e4e3-541f5a54f538",
        "colab": {
          "base_uri": "https://localhost:8080/"
        }
      },
      "source": [
        "from sklearn import svm\n",
        "from sklearn.model_selection import GridSearchCV\n",
        "parameters = [{'C':[1,10,100,1000],'kernel':['linear']},\n",
        "               {'C':[1,10,100,1000],'gamma':[0.001,0.0001],'kernel':['rbf']}\n",
        "    ]\n",
        "\n",
        "svc=svm.SVC(probability=True)\n",
        "clf=GridSearchCV(svc,parameters)\n",
        "clf.fit(x_train,y_train)\n"
      ],
      "execution_count": 131,
      "outputs": [
        {
          "output_type": "execute_result",
          "data": {
            "text/plain": [
              "GridSearchCV(cv=None, error_score=nan,\n",
              "             estimator=SVC(C=1.0, break_ties=False, cache_size=200,\n",
              "                           class_weight=None, coef0=0.0,\n",
              "                           decision_function_shape='ovr', degree=3,\n",
              "                           gamma='scale', kernel='rbf', max_iter=-1,\n",
              "                           probability=True, random_state=None, shrinking=True,\n",
              "                           tol=0.001, verbose=False),\n",
              "             iid='deprecated', n_jobs=None,\n",
              "             param_grid=[{'C': [1, 10, 100, 1000], 'kernel': ['linear']},\n",
              "                         {'C': [1, 10, 100, 1000], 'gamma': [0.001, 0.0001],\n",
              "                          'kernel': ['rbf']}],\n",
              "             pre_dispatch='2*n_jobs', refit=True, return_train_score=False,\n",
              "             scoring=None, verbose=0)"
            ]
          },
          "metadata": {
            "tags": []
          },
          "execution_count": 131
        },
        {
          "output_type": "stream",
          "text": [
            "time: 22.6 s\n"
          ],
          "name": "stdout"
        }
      ]
    },
    {
      "cell_type": "code",
      "metadata": {
        "id": "1A6nV7pYxjWq",
        "outputId": "5c4bc547-7bca-4586-a292-1283bc95f8c4",
        "colab": {
          "base_uri": "https://localhost:8080/"
        }
      },
      "source": [
        "y_pred=clf.predict(x_test)\n",
        "y_pred\n"
      ],
      "execution_count": 132,
      "outputs": [
        {
          "output_type": "execute_result",
          "data": {
            "text/plain": [
              "array([0, 0, 1, 2, 2, 1, 0, 0, 1, 0, 1, 0, 0, 2, 2, 1, 2, 1, 0, 1, 2, 2,\n",
              "       0, 0, 0, 0, 1, 1, 0, 0, 1, 1, 2, 1, 0, 0, 0, 2, 1, 1, 2, 0, 2, 2,\n",
              "       0, 0, 2, 0, 2, 1, 0, 0, 0, 1, 0, 1, 2, 2, 2, 2, 2, 2, 0])"
            ]
          },
          "metadata": {
            "tags": []
          },
          "execution_count": 132
        },
        {
          "output_type": "stream",
          "text": [
            "time: 198 ms\n"
          ],
          "name": "stdout"
        }
      ]
    },
    {
      "cell_type": "code",
      "metadata": {
        "id": "APW_olA_xwvp",
        "outputId": "85c9fac6-0836-4a99-9cb8-f76a25d871cd",
        "colab": {
          "base_uri": "https://localhost:8080/"
        }
      },
      "source": [
        "y_test"
      ],
      "execution_count": 133,
      "outputs": [
        {
          "output_type": "execute_result",
          "data": {
            "text/plain": [
              "array([1, 0, 1, 2, 2, 1, 0, 1, 1, 0, 1, 0, 1, 2, 2, 1, 2, 1, 0, 1, 2, 2,\n",
              "       2, 0, 0, 0, 1, 1, 0, 0, 1, 1, 2, 1, 0, 2, 0, 0, 1, 1, 2, 0, 2, 2,\n",
              "       0, 0, 2, 2, 2, 1, 1, 0, 0, 1, 0, 1, 0, 2, 2, 2, 2, 2, 0])"
            ]
          },
          "metadata": {
            "tags": []
          },
          "execution_count": 133
        },
        {
          "output_type": "stream",
          "text": [
            "time: 3.25 ms\n"
          ],
          "name": "stdout"
        }
      ]
    },
    {
      "cell_type": "code",
      "metadata": {
        "id": "ook3EJw5va-l",
        "outputId": "0bb84fb7-ade8-44c9-cfb8-3e70bb29a28b",
        "colab": {
          "base_uri": "https://localhost:8080/"
        }
      },
      "source": [
        "from sklearn.metrics import accuracy_score,confusion_matrix,classification_report\n"
      ],
      "execution_count": 134,
      "outputs": [
        {
          "output_type": "stream",
          "text": [
            "time: 1.15 ms\n"
          ],
          "name": "stdout"
        }
      ]
    },
    {
      "cell_type": "code",
      "metadata": {
        "id": "L1XZHZ_1xcYj",
        "outputId": "47a5c136-44fe-4fc3-bf70-cfb7d9353e9a",
        "colab": {
          "base_uri": "https://localhost:8080/"
        }
      },
      "source": [
        "accuracy_score(y_pred,y_test)"
      ],
      "execution_count": 135,
      "outputs": [
        {
          "output_type": "execute_result",
          "data": {
            "text/plain": [
              "0.8571428571428571"
            ]
          },
          "metadata": {
            "tags": []
          },
          "execution_count": 135
        },
        {
          "output_type": "stream",
          "text": [
            "time: 7.6 ms\n"
          ],
          "name": "stdout"
        }
      ]
    },
    {
      "cell_type": "code",
      "metadata": {
        "id": "5HrX4GLyx6on",
        "outputId": "78294656-222d-4ba7-eb7c-698260264c65",
        "colab": {
          "base_uri": "https://localhost:8080/"
        }
      },
      "source": [
        "confusion_matrix(y_pred,y_test)"
      ],
      "execution_count": 136,
      "outputs": [
        {
          "output_type": "execute_result",
          "data": {
            "text/plain": [
              "array([[19,  4,  3],\n",
              "       [ 0, 17,  0],\n",
              "       [ 2,  0, 18]])"
            ]
          },
          "metadata": {
            "tags": []
          },
          "execution_count": 136
        },
        {
          "output_type": "stream",
          "text": [
            "time: 7.39 ms\n"
          ],
          "name": "stdout"
        }
      ]
    },
    {
      "cell_type": "code",
      "metadata": {
        "id": "pSZZ94nSyMvw",
        "outputId": "13207ee0-e598-4be1-ae79-b75f3aaa9784",
        "colab": {
          "base_uri": "https://localhost:8080/"
        }
      },
      "source": [
        "#Save the model using pickel library\n",
        "import pickle\n",
        "pickle.dump(clf,open('img_model.p','wb'))"
      ],
      "execution_count": 137,
      "outputs": [
        {
          "output_type": "stream",
          "text": [
            "time: 26.1 ms\n"
          ],
          "name": "stdout"
        }
      ]
    },
    {
      "cell_type": "code",
      "metadata": {
        "id": "lKVGAr_L7a5G",
        "outputId": "08204513-a4f9-4fb7-b8df-6dea9dfe8313",
        "colab": {
          "base_uri": "https://localhost:8080/"
        }
      },
      "source": [
        "model=pickle.load(open('img_model.p','rb'))"
      ],
      "execution_count": 138,
      "outputs": [
        {
          "output_type": "stream",
          "text": [
            "time: 12.7 ms\n"
          ],
          "name": "stdout"
        }
      ]
    },
    {
      "cell_type": "code",
      "metadata": {
        "id": "KZal4Btb7s37",
        "outputId": "eadb522f-18fd-4a4a-884d-ef0baf78b236",
        "colab": {
          "base_uri": "https://localhost:8080/",
          "height": 356
        }
      },
      "source": [
        "#Testing a brand new image\n",
        "flat_data=[]\n",
        "url=input('Enter your URL')\n",
        "img=imread(url)\n",
        "img_resized=resize(img,(150,150,3))\n",
        "flat_data.append(img_resized.flatten())\n",
        "flat_data=np.array(flat_data)\n",
        "print(img.shape)\n",
        "plt.imshow(img_resized)\n",
        "y_out=model.predict(flat_data)\n",
        "y_out=CATEGORIES[y_out[0]]\n",
        "print(f'PREDICTED OUTPUT: {y_out}')\n"
      ],
      "execution_count": 144,
      "outputs": [
        {
          "output_type": "stream",
          "text": [
            "Enter your URLhttps://www.treehugger.com/thmb/z3hnJHKMZuISWB2JJ51GoqXHk3U=/1899x1424/smart/filters:no_upscale()/GettyImages-561348663-85fe7dfbcf354dc19216589c7609f5c1.jpg\n",
            "(1424, 1899, 3)\n",
            "PREDICTED OUTPUT: sunflower\n"
          ],
          "name": "stdout"
        },
        {
          "output_type": "display_data",
          "data": {
            "image/png": "[encoded data removed]",
            "text/plain": [
              "<Figure size 432x288 with 1 Axes>"
            ]
          },
          "metadata": {
            "tags": [],
            "needs_background": "light"
          }
        },
        {
          "output_type": "stream",
          "text": [
            "time: 6.47 s\n"
          ],
          "name": "stdout"
        }
      ]
    },
    {
      "cell_type": "code",
      "metadata": {
        "id": "tshM6jtK78sd"
      },
      "source": [
        ""
      ],
      "execution_count": null,
      "outputs": []
    }
  ]
}